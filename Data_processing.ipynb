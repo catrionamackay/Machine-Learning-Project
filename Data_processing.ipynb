{
 "cells": [
  {
   "cell_type": "code",
   "execution_count": 1,
   "metadata": {},
   "outputs": [],
   "source": [
    "import pandas as pd\n",
    "import numpy as np\n",
    "import matplotlib.pyplot as plt\n",
    "from sklearn.experimental import enable_iterative_imputer \n",
    "from sklearn.impute import IterativeImputer\n",
    "from sklearn.impute import KNNImputer\n",
    "import seaborn as sns"
   ]
  },
  {
   "cell_type": "code",
   "execution_count": 97,
   "metadata": {},
   "outputs": [
    {
     "name": "stderr",
     "output_type": "stream",
     "text": [
      "/rds/general/user/cam119/home/anaconda3/envs/ML_project/lib/python3.6/site-packages/IPython/core/interactiveshell.py:3063: DtypeWarning: Columns (7) have mixed types.Specify dtype option on import or set low_memory=False.\n",
      "  interactivity=interactivity, compiler=compiler, result=result)\n"
     ]
    }
   ],
   "source": [
    "#df = pd.read_csv('Data/births_toy.csv', index_col=[0])\n",
    "df = pd.read_csv('Data/US_births(2018).csv')\n",
    "col_dict = pd.read_excel('Data/Column_dictionary.xlsx', header=None)"
   ]
  },
  {
   "cell_type": "code",
   "execution_count": 98,
   "metadata": {},
   "outputs": [
    {
     "data": {
      "text/plain": [
       "(3801534, 55)"
      ]
     },
     "execution_count": 98,
     "metadata": {},
     "output_type": "execute_result"
    }
   ],
   "source": [
    "df.shape"
   ]
  },
  {
   "cell_type": "code",
   "execution_count": 99,
   "metadata": {},
   "outputs": [
    {
     "data": {
      "text/html": [
       "<div>\n",
       "<style scoped>\n",
       "    .dataframe tbody tr th:only-of-type {\n",
       "        vertical-align: middle;\n",
       "    }\n",
       "\n",
       "    .dataframe tbody tr th {\n",
       "        vertical-align: top;\n",
       "    }\n",
       "\n",
       "    .dataframe thead th {\n",
       "        text-align: right;\n",
       "    }\n",
       "</style>\n",
       "<table border=\"1\" class=\"dataframe\">\n",
       "  <thead>\n",
       "    <tr style=\"text-align: right;\">\n",
       "      <th></th>\n",
       "      <th>ATTEND</th>\n",
       "      <th>BFACIL</th>\n",
       "      <th>BMI</th>\n",
       "      <th>CIG_0</th>\n",
       "      <th>DBWT</th>\n",
       "      <th>DLMP_MM</th>\n",
       "      <th>DLMP_YY</th>\n",
       "      <th>DMAR</th>\n",
       "      <th>DOB_MM</th>\n",
       "      <th>DOB_TT</th>\n",
       "      <th>...</th>\n",
       "      <th>PRIORDEAD</th>\n",
       "      <th>PRIORLIVE</th>\n",
       "      <th>PRIORTERM</th>\n",
       "      <th>PWgt_R</th>\n",
       "      <th>RDMETH_REC</th>\n",
       "      <th>RESTATUS</th>\n",
       "      <th>RF_CESAR</th>\n",
       "      <th>RF_CESARN</th>\n",
       "      <th>SEX</th>\n",
       "      <th>WTGAIN</th>\n",
       "    </tr>\n",
       "  </thead>\n",
       "  <tbody>\n",
       "    <tr>\n",
       "      <th>0</th>\n",
       "      <td>1</td>\n",
       "      <td>1</td>\n",
       "      <td>30.7</td>\n",
       "      <td>0</td>\n",
       "      <td>3657</td>\n",
       "      <td>4</td>\n",
       "      <td>2017</td>\n",
       "      <td>1</td>\n",
       "      <td>1</td>\n",
       "      <td>1227</td>\n",
       "      <td>...</td>\n",
       "      <td>0</td>\n",
       "      <td>1</td>\n",
       "      <td>2</td>\n",
       "      <td>190</td>\n",
       "      <td>1</td>\n",
       "      <td>2</td>\n",
       "      <td>N</td>\n",
       "      <td>0</td>\n",
       "      <td>M</td>\n",
       "      <td>41</td>\n",
       "    </tr>\n",
       "    <tr>\n",
       "      <th>1</th>\n",
       "      <td>1</td>\n",
       "      <td>1</td>\n",
       "      <td>33.3</td>\n",
       "      <td>2</td>\n",
       "      <td>3242</td>\n",
       "      <td>99</td>\n",
       "      <td>9999</td>\n",
       "      <td>2</td>\n",
       "      <td>1</td>\n",
       "      <td>1704</td>\n",
       "      <td>...</td>\n",
       "      <td>0</td>\n",
       "      <td>2</td>\n",
       "      <td>0</td>\n",
       "      <td>188</td>\n",
       "      <td>4</td>\n",
       "      <td>2</td>\n",
       "      <td>Y</td>\n",
       "      <td>2</td>\n",
       "      <td>F</td>\n",
       "      <td>0</td>\n",
       "    </tr>\n",
       "    <tr>\n",
       "      <th>2</th>\n",
       "      <td>1</td>\n",
       "      <td>1</td>\n",
       "      <td>30.0</td>\n",
       "      <td>0</td>\n",
       "      <td>3470</td>\n",
       "      <td>4</td>\n",
       "      <td>2017</td>\n",
       "      <td>1</td>\n",
       "      <td>1</td>\n",
       "      <td>336</td>\n",
       "      <td>...</td>\n",
       "      <td>0</td>\n",
       "      <td>1</td>\n",
       "      <td>0</td>\n",
       "      <td>215</td>\n",
       "      <td>1</td>\n",
       "      <td>1</td>\n",
       "      <td>N</td>\n",
       "      <td>0</td>\n",
       "      <td>M</td>\n",
       "      <td>58</td>\n",
       "    </tr>\n",
       "    <tr>\n",
       "      <th>3</th>\n",
       "      <td>3</td>\n",
       "      <td>1</td>\n",
       "      <td>23.7</td>\n",
       "      <td>0</td>\n",
       "      <td>3140</td>\n",
       "      <td>5</td>\n",
       "      <td>2017</td>\n",
       "      <td>2</td>\n",
       "      <td>1</td>\n",
       "      <td>938</td>\n",
       "      <td>...</td>\n",
       "      <td>0</td>\n",
       "      <td>2</td>\n",
       "      <td>0</td>\n",
       "      <td>138</td>\n",
       "      <td>1</td>\n",
       "      <td>2</td>\n",
       "      <td>N</td>\n",
       "      <td>0</td>\n",
       "      <td>F</td>\n",
       "      <td>0</td>\n",
       "    </tr>\n",
       "    <tr>\n",
       "      <th>4</th>\n",
       "      <td>1</td>\n",
       "      <td>1</td>\n",
       "      <td>35.5</td>\n",
       "      <td>0</td>\n",
       "      <td>2125</td>\n",
       "      <td>99</td>\n",
       "      <td>9999</td>\n",
       "      <td>1</td>\n",
       "      <td>1</td>\n",
       "      <td>830</td>\n",
       "      <td>...</td>\n",
       "      <td>0</td>\n",
       "      <td>1</td>\n",
       "      <td>4</td>\n",
       "      <td>220</td>\n",
       "      <td>3</td>\n",
       "      <td>1</td>\n",
       "      <td>N</td>\n",
       "      <td>0</td>\n",
       "      <td>M</td>\n",
       "      <td>0</td>\n",
       "    </tr>\n",
       "  </tbody>\n",
       "</table>\n",
       "<p>5 rows × 55 columns</p>\n",
       "</div>"
      ],
      "text/plain": [
       "   ATTEND  BFACIL   BMI  CIG_0  DBWT  DLMP_MM  DLMP_YY DMAR  DOB_MM  DOB_TT  \\\n",
       "0       1       1  30.7      0  3657        4     2017    1       1    1227   \n",
       "1       1       1  33.3      2  3242       99     9999    2       1    1704   \n",
       "2       1       1  30.0      0  3470        4     2017    1       1     336   \n",
       "3       3       1  23.7      0  3140        5     2017    2       1     938   \n",
       "4       1       1  35.5      0  2125       99     9999    1       1     830   \n",
       "\n",
       "   ...  PRIORDEAD  PRIORLIVE  PRIORTERM  PWgt_R  RDMETH_REC  RESTATUS  \\\n",
       "0  ...          0          1          2     190           1         2   \n",
       "1  ...          0          2          0     188           4         2   \n",
       "2  ...          0          1          0     215           1         1   \n",
       "3  ...          0          2          0     138           1         2   \n",
       "4  ...          0          1          4     220           3         1   \n",
       "\n",
       "   RF_CESAR  RF_CESARN  SEX  WTGAIN  \n",
       "0         N          0    M      41  \n",
       "1         Y          2    F       0  \n",
       "2         N          0    M      58  \n",
       "3         N          0    F       0  \n",
       "4         N          0    M       0  \n",
       "\n",
       "[5 rows x 55 columns]"
      ]
     },
     "execution_count": 99,
     "metadata": {},
     "output_type": "execute_result"
    }
   ],
   "source": [
    "df.head()"
   ]
  },
  {
   "cell_type": "code",
   "execution_count": 100,
   "metadata": {},
   "outputs": [
    {
     "data": {
      "text/html": [
       "<div>\n",
       "<style scoped>\n",
       "    .dataframe tbody tr th:only-of-type {\n",
       "        vertical-align: middle;\n",
       "    }\n",
       "\n",
       "    .dataframe tbody tr th {\n",
       "        vertical-align: top;\n",
       "    }\n",
       "\n",
       "    .dataframe thead th {\n",
       "        text-align: right;\n",
       "    }\n",
       "</style>\n",
       "<table border=\"1\" class=\"dataframe\">\n",
       "  <thead>\n",
       "    <tr style=\"text-align: right;\">\n",
       "      <th></th>\n",
       "      <th>0</th>\n",
       "      <th>1</th>\n",
       "    </tr>\n",
       "  </thead>\n",
       "  <tbody>\n",
       "    <tr>\n",
       "      <th>0</th>\n",
       "      <td>ATTEND</td>\n",
       "      <td>birth_attendant</td>\n",
       "    </tr>\n",
       "    <tr>\n",
       "      <th>1</th>\n",
       "      <td>BFACIL</td>\n",
       "      <td>birth_place</td>\n",
       "    </tr>\n",
       "    <tr>\n",
       "      <th>2</th>\n",
       "      <td>BMI</td>\n",
       "      <td>bmi</td>\n",
       "    </tr>\n",
       "    <tr>\n",
       "      <th>3</th>\n",
       "      <td>CIG_0</td>\n",
       "      <td>cigs_before_preg</td>\n",
       "    </tr>\n",
       "    <tr>\n",
       "      <th>4</th>\n",
       "      <td>DBWT</td>\n",
       "      <td>birthweight_g</td>\n",
       "    </tr>\n",
       "  </tbody>\n",
       "</table>\n",
       "</div>"
      ],
      "text/plain": [
       "        0                 1\n",
       "0  ATTEND   birth_attendant\n",
       "1  BFACIL       birth_place\n",
       "2     BMI               bmi\n",
       "3   CIG_0  cigs_before_preg\n",
       "4    DBWT     birthweight_g"
      ]
     },
     "execution_count": 100,
     "metadata": {},
     "output_type": "execute_result"
    }
   ],
   "source": [
    "col_dict.head()"
   ]
  },
  {
   "cell_type": "code",
   "execution_count": 101,
   "metadata": {},
   "outputs": [],
   "source": [
    "df.columns = col_dict[1]\n",
    "df.columns = map(str.lower, df.columns)"
   ]
  },
  {
   "cell_type": "code",
   "execution_count": 102,
   "metadata": {},
   "outputs": [
    {
     "name": "stdout",
     "output_type": "stream",
     "text": [
      "<class 'pandas.core.frame.DataFrame'>\n",
      "RangeIndex: 3801534 entries, 0 to 3801533\n",
      "Data columns (total 55 columns):\n",
      " #   Column                 Dtype  \n",
      "---  ------                 -----  \n",
      " 0   birth_attendant        int64  \n",
      " 1   birth_place            int64  \n",
      " 2   bmi                    float64\n",
      " 3   cigs_before_preg       int64  \n",
      " 4   birthweight_g          int64  \n",
      " 5   last_norm_menses_mn    int64  \n",
      " 6   last_norm_menses_yr    int64  \n",
      " 7   marital_stat           object \n",
      " 8   birth_mn               int64  \n",
      " 9   birth_time             int64  \n",
      " 10  birth_dy               int64  \n",
      " 11  birth_yr               int64  \n",
      " 12  m_deliveryweight       int64  \n",
      " 13  f_age                  int64  \n",
      " 14  f_education            int64  \n",
      " 15  f_hispanic             int64  \n",
      " 16  f_race15               int64  \n",
      " 17  f_race31               int64  \n",
      " 18  f_race6                int64  \n",
      " 19  last_live_birth_mn     int64  \n",
      " 20  last_other_preg_mn     int64  \n",
      " 21  last_preg_mn           int64  \n",
      " 22  sex_imp                object \n",
      " 23  gonorrhea              object \n",
      " 24  labour_induced         object \n",
      " 25  m_age                  int64  \n",
      " 26  m_age_imp              object \n",
      " 27  m_marital_stat_imp     object \n",
      " 28  m_nativity             int64  \n",
      " 29  m_education            int64  \n",
      " 30  m_hispanic             int64  \n",
      " 31  admit_icu              object \n",
      " 32  m_race15               int64  \n",
      " 33  m_race31               int64  \n",
      " 34  m_race_imp             object \n",
      " 35  m_race6                int64  \n",
      " 36  m_transferred          object \n",
      " 37  m_height_in            int64  \n",
      " 38  infections             int64  \n",
      " 39  m_morbidity            int64  \n",
      " 40  riskf                  int64  \n",
      " 41  payment_det            int64  \n",
      " 42  payment                int64  \n",
      " 43  mn_prenatalcare_began  int64  \n",
      " 44  num_prenatal_visits    int64  \n",
      " 45  prior_births_dead      int64  \n",
      " 46  prior_births_living    int64  \n",
      " 47  prior_terminations     int64  \n",
      " 48  prepreg_weight         int64  \n",
      " 49  delivery_method        int64  \n",
      " 50  res_status             int64  \n",
      " 51  prev_cesarean          object \n",
      " 52  num_prev_cesareans     int64  \n",
      " 53  infant_sex             object \n",
      " 54  weight_gain            int64  \n",
      "dtypes: float64(1), int64(43), object(11)\n",
      "memory usage: 1.6+ GB\n"
     ]
    }
   ],
   "source": [
    "df.info()"
   ]
  },
  {
   "cell_type": "markdown",
   "metadata": {},
   "source": [
    "* Cleaning data: removing useless columns, coding NAs, coding in binary, and removing entries with impossible values (high/low birthweight)"
   ]
  },
  {
   "cell_type": "code",
   "execution_count": 103,
   "metadata": {},
   "outputs": [],
   "source": [
    "df = df.drop(['last_other_preg_mn', \n",
    "              'sex_imp', \n",
    "              'm_age_imp', \n",
    "              'm_marital_stat_imp', \n",
    "              'm_race_imp',\n",
    "              'payment_det'], axis=1)"
   ]
  },
  {
   "cell_type": "code",
   "execution_count": 104,
   "metadata": {},
   "outputs": [],
   "source": [
    "def replace_na(data, column_name, value):\n",
    "    data[column_name] = data[column_name].mask(data[column_name] == value, np.nan)"
   ]
  },
  {
   "cell_type": "code",
   "execution_count": 105,
   "metadata": {},
   "outputs": [],
   "source": [
    "replace_na(df, 'bmi', 99.9)\n",
    "replace_na(df, 'm_nativity', 3)"
   ]
  },
  {
   "cell_type": "code",
   "execution_count": 106,
   "metadata": {},
   "outputs": [],
   "source": [
    "columns_9 = ['birth_attendant','birth_place','f_education','f_hispanic','f_race6','m_education','m_hispanic',\n",
    "             'infections','m_morbidity','riskf','delivery_method','payment']\n",
    "              \n",
    "for i in columns_9:\n",
    "    replace_na(df, i, 9)"
   ]
  },
  {
   "cell_type": "code",
   "execution_count": 107,
   "metadata": {},
   "outputs": [],
   "source": [
    "columns_99 = ['cigs_before_preg','last_norm_menses_mn','f_age','f_race15','f_race31','m_height_in',\n",
    "             'mn_prenatalcare_began','num_prenatal_visits','prior_births_dead','prior_births_living',\n",
    "             'prior_terminations','num_prev_cesareans','weight_gain']\n",
    "\n",
    "for i in columns_99:\n",
    "    replace_na(df, i, 99)"
   ]
  },
  {
   "cell_type": "code",
   "execution_count": 108,
   "metadata": {},
   "outputs": [],
   "source": [
    "columns_888 = ['last_preg_mn','last_live_birth_mn']\n",
    "\n",
    "for i in columns_888:\n",
    "    replace_na(df, i, 888)"
   ]
  },
  {
   "cell_type": "code",
   "execution_count": 109,
   "metadata": {},
   "outputs": [],
   "source": [
    "columns_999 = ['last_live_birth_mn','last_preg_mn','m_deliveryweight','prepreg_weight']\n",
    "\n",
    "for i in columns_999:\n",
    "    replace_na(df, i, 999)"
   ]
  },
  {
   "cell_type": "code",
   "execution_count": 110,
   "metadata": {},
   "outputs": [],
   "source": [
    "columns_9999 = ['birthweight_g','last_norm_menses_yr','birth_time']\n",
    "\n",
    "for i in columns_9999:\n",
    "    replace_na(df, i, 9999)"
   ]
  },
  {
   "cell_type": "code",
   "execution_count": 111,
   "metadata": {},
   "outputs": [],
   "source": [
    "columns_U = ['gonorrhea','labour_induced','admit_icu','m_transferred','prev_cesarean']\n",
    "\n",
    "for i in columns_U:\n",
    "    replace_na(df, i, 'U')"
   ]
  },
  {
   "cell_type": "code",
   "execution_count": 112,
   "metadata": {},
   "outputs": [],
   "source": [
    "df['infections'] = df['infections'].mask(df['infections'] == 1, 'N')\n",
    "df['infections'] = df['infections'].mask(df['infections'] == 0, 'Y')\n",
    "\n",
    "df['m_morbidity'] = df['m_morbidity'].mask(df['m_morbidity'] == 1, 'N')\n",
    "df['m_morbidity'] = df['m_morbidity'].mask(df['m_morbidity'] == 0, 'Y')\n",
    "\n",
    "df['riskf'] = df['riskf'].mask(df['riskf'] == 1, 'N')\n",
    "df['riskf'] = df['riskf'].mask(df['riskf'] == 0, 'Y')"
   ]
  },
  {
   "cell_type": "code",
   "execution_count": 113,
   "metadata": {},
   "outputs": [
    {
     "data": {
      "text/html": [
       "<div>\n",
       "<style scoped>\n",
       "    .dataframe tbody tr th:only-of-type {\n",
       "        vertical-align: middle;\n",
       "    }\n",
       "\n",
       "    .dataframe tbody tr th {\n",
       "        vertical-align: top;\n",
       "    }\n",
       "\n",
       "    .dataframe thead th {\n",
       "        text-align: right;\n",
       "    }\n",
       "</style>\n",
       "<table border=\"1\" class=\"dataframe\">\n",
       "  <thead>\n",
       "    <tr style=\"text-align: right;\">\n",
       "      <th></th>\n",
       "      <th>birth_attendant</th>\n",
       "      <th>birth_place</th>\n",
       "      <th>bmi</th>\n",
       "      <th>cigs_before_preg</th>\n",
       "      <th>birthweight_g</th>\n",
       "      <th>last_norm_menses_mn</th>\n",
       "      <th>last_norm_menses_yr</th>\n",
       "      <th>birth_mn</th>\n",
       "      <th>birth_time</th>\n",
       "      <th>birth_dy</th>\n",
       "      <th>...</th>\n",
       "      <th>mn_prenatalcare_began</th>\n",
       "      <th>num_prenatal_visits</th>\n",
       "      <th>prior_births_dead</th>\n",
       "      <th>prior_births_living</th>\n",
       "      <th>prior_terminations</th>\n",
       "      <th>prepreg_weight</th>\n",
       "      <th>delivery_method</th>\n",
       "      <th>res_status</th>\n",
       "      <th>num_prev_cesareans</th>\n",
       "      <th>weight_gain</th>\n",
       "    </tr>\n",
       "  </thead>\n",
       "  <tbody>\n",
       "    <tr>\n",
       "      <th>count</th>\n",
       "      <td>3.799026e+06</td>\n",
       "      <td>3.801262e+06</td>\n",
       "      <td>3.715334e+06</td>\n",
       "      <td>3.783364e+06</td>\n",
       "      <td>3.798574e+06</td>\n",
       "      <td>3.623781e+06</td>\n",
       "      <td>3.634686e+06</td>\n",
       "      <td>3.801534e+06</td>\n",
       "      <td>3.801218e+06</td>\n",
       "      <td>3.801534e+06</td>\n",
       "      <td>...</td>\n",
       "      <td>3.705862e+06</td>\n",
       "      <td>3.705917e+06</td>\n",
       "      <td>3.791288e+06</td>\n",
       "      <td>3.793816e+06</td>\n",
       "      <td>3.788758e+06</td>\n",
       "      <td>3.725000e+06</td>\n",
       "      <td>3.799906e+06</td>\n",
       "      <td>3.801534e+06</td>\n",
       "      <td>3.797480e+06</td>\n",
       "      <td>3.684346e+06</td>\n",
       "    </tr>\n",
       "    <tr>\n",
       "      <th>mean</th>\n",
       "      <td>1.326893e+00</td>\n",
       "      <td>1.035268e+00</td>\n",
       "      <td>2.716780e+01</td>\n",
       "      <td>1.105816e+00</td>\n",
       "      <td>3.261649e+03</td>\n",
       "      <td>6.608613e+00</td>\n",
       "      <td>2.017248e+03</td>\n",
       "      <td>6.560880e+00</td>\n",
       "      <td>1.228447e+03</td>\n",
       "      <td>4.059289e+00</td>\n",
       "      <td>...</td>\n",
       "      <td>2.901963e+00</td>\n",
       "      <td>1.129048e+01</td>\n",
       "      <td>1.514156e-02</td>\n",
       "      <td>1.138918e+00</td>\n",
       "      <td>4.299018e-01</td>\n",
       "      <td>1.590928e+02</td>\n",
       "      <td>1.796411e+00</td>\n",
       "      <td>1.331968e+00</td>\n",
       "      <td>2.225126e-01</td>\n",
       "      <td>2.947331e+01</td>\n",
       "    </tr>\n",
       "    <tr>\n",
       "      <th>std</th>\n",
       "      <td>7.482103e-01</td>\n",
       "      <td>3.153267e-01</td>\n",
       "      <td>6.759659e+00</td>\n",
       "      <td>4.743047e+00</td>\n",
       "      <td>5.904779e+02</td>\n",
       "      <td>3.477206e+00</td>\n",
       "      <td>4.334201e-01</td>\n",
       "      <td>3.419287e+00</td>\n",
       "      <td>6.315904e+02</td>\n",
       "      <td>1.852540e+00</td>\n",
       "      <td>...</td>\n",
       "      <td>1.522518e+00</td>\n",
       "      <td>4.200561e+00</td>\n",
       "      <td>1.820914e-01</td>\n",
       "      <td>1.304771e+00</td>\n",
       "      <td>8.964494e-01</td>\n",
       "      <td>4.191389e+01</td>\n",
       "      <td>1.162220e+00</td>\n",
       "      <td>5.339529e-01</td>\n",
       "      <td>5.898300e-01</td>\n",
       "      <td>1.515072e+01</td>\n",
       "    </tr>\n",
       "    <tr>\n",
       "      <th>min</th>\n",
       "      <td>1.000000e+00</td>\n",
       "      <td>1.000000e+00</td>\n",
       "      <td>1.300000e+01</td>\n",
       "      <td>0.000000e+00</td>\n",
       "      <td>2.270000e+02</td>\n",
       "      <td>1.000000e+00</td>\n",
       "      <td>2.016000e+03</td>\n",
       "      <td>1.000000e+00</td>\n",
       "      <td>0.000000e+00</td>\n",
       "      <td>1.000000e+00</td>\n",
       "      <td>...</td>\n",
       "      <td>0.000000e+00</td>\n",
       "      <td>0.000000e+00</td>\n",
       "      <td>0.000000e+00</td>\n",
       "      <td>0.000000e+00</td>\n",
       "      <td>0.000000e+00</td>\n",
       "      <td>7.500000e+01</td>\n",
       "      <td>1.000000e+00</td>\n",
       "      <td>1.000000e+00</td>\n",
       "      <td>0.000000e+00</td>\n",
       "      <td>0.000000e+00</td>\n",
       "    </tr>\n",
       "    <tr>\n",
       "      <th>25%</th>\n",
       "      <td>1.000000e+00</td>\n",
       "      <td>1.000000e+00</td>\n",
       "      <td>2.230000e+01</td>\n",
       "      <td>0.000000e+00</td>\n",
       "      <td>2.960000e+03</td>\n",
       "      <td>4.000000e+00</td>\n",
       "      <td>2.017000e+03</td>\n",
       "      <td>4.000000e+00</td>\n",
       "      <td>7.590000e+02</td>\n",
       "      <td>3.000000e+00</td>\n",
       "      <td>...</td>\n",
       "      <td>2.000000e+00</td>\n",
       "      <td>9.000000e+00</td>\n",
       "      <td>0.000000e+00</td>\n",
       "      <td>0.000000e+00</td>\n",
       "      <td>0.000000e+00</td>\n",
       "      <td>1.300000e+02</td>\n",
       "      <td>1.000000e+00</td>\n",
       "      <td>1.000000e+00</td>\n",
       "      <td>0.000000e+00</td>\n",
       "      <td>2.000000e+01</td>\n",
       "    </tr>\n",
       "    <tr>\n",
       "      <th>50%</th>\n",
       "      <td>1.000000e+00</td>\n",
       "      <td>1.000000e+00</td>\n",
       "      <td>2.570000e+01</td>\n",
       "      <td>0.000000e+00</td>\n",
       "      <td>3.300000e+03</td>\n",
       "      <td>7.000000e+00</td>\n",
       "      <td>2.017000e+03</td>\n",
       "      <td>7.000000e+00</td>\n",
       "      <td>1.236000e+03</td>\n",
       "      <td>4.000000e+00</td>\n",
       "      <td>...</td>\n",
       "      <td>3.000000e+00</td>\n",
       "      <td>1.200000e+01</td>\n",
       "      <td>0.000000e+00</td>\n",
       "      <td>1.000000e+00</td>\n",
       "      <td>0.000000e+00</td>\n",
       "      <td>1.500000e+02</td>\n",
       "      <td>1.000000e+00</td>\n",
       "      <td>1.000000e+00</td>\n",
       "      <td>0.000000e+00</td>\n",
       "      <td>2.900000e+01</td>\n",
       "    </tr>\n",
       "    <tr>\n",
       "      <th>75%</th>\n",
       "      <td>1.000000e+00</td>\n",
       "      <td>1.000000e+00</td>\n",
       "      <td>3.070000e+01</td>\n",
       "      <td>0.000000e+00</td>\n",
       "      <td>3.629000e+03</td>\n",
       "      <td>1.000000e+01</td>\n",
       "      <td>2.017000e+03</td>\n",
       "      <td>9.000000e+00</td>\n",
       "      <td>1.733000e+03</td>\n",
       "      <td>6.000000e+00</td>\n",
       "      <td>...</td>\n",
       "      <td>3.000000e+00</td>\n",
       "      <td>1.300000e+01</td>\n",
       "      <td>0.000000e+00</td>\n",
       "      <td>2.000000e+00</td>\n",
       "      <td>1.000000e+00</td>\n",
       "      <td>1.800000e+02</td>\n",
       "      <td>3.000000e+00</td>\n",
       "      <td>2.000000e+00</td>\n",
       "      <td>0.000000e+00</td>\n",
       "      <td>3.800000e+01</td>\n",
       "    </tr>\n",
       "    <tr>\n",
       "      <th>max</th>\n",
       "      <td>5.000000e+00</td>\n",
       "      <td>7.000000e+00</td>\n",
       "      <td>6.990000e+01</td>\n",
       "      <td>9.800000e+01</td>\n",
       "      <td>8.165000e+03</td>\n",
       "      <td>1.200000e+01</td>\n",
       "      <td>2.018000e+03</td>\n",
       "      <td>1.200000e+01</td>\n",
       "      <td>2.359000e+03</td>\n",
       "      <td>7.000000e+00</td>\n",
       "      <td>...</td>\n",
       "      <td>1.000000e+01</td>\n",
       "      <td>9.800000e+01</td>\n",
       "      <td>1.300000e+01</td>\n",
       "      <td>1.800000e+01</td>\n",
       "      <td>2.800000e+01</td>\n",
       "      <td>3.750000e+02</td>\n",
       "      <td>6.000000e+00</td>\n",
       "      <td>4.000000e+00</td>\n",
       "      <td>1.100000e+01</td>\n",
       "      <td>9.800000e+01</td>\n",
       "    </tr>\n",
       "  </tbody>\n",
       "</table>\n",
       "<p>8 rows × 39 columns</p>\n",
       "</div>"
      ],
      "text/plain": [
       "       birth_attendant   birth_place           bmi  cigs_before_preg  \\\n",
       "count     3.799026e+06  3.801262e+06  3.715334e+06      3.783364e+06   \n",
       "mean      1.326893e+00  1.035268e+00  2.716780e+01      1.105816e+00   \n",
       "std       7.482103e-01  3.153267e-01  6.759659e+00      4.743047e+00   \n",
       "min       1.000000e+00  1.000000e+00  1.300000e+01      0.000000e+00   \n",
       "25%       1.000000e+00  1.000000e+00  2.230000e+01      0.000000e+00   \n",
       "50%       1.000000e+00  1.000000e+00  2.570000e+01      0.000000e+00   \n",
       "75%       1.000000e+00  1.000000e+00  3.070000e+01      0.000000e+00   \n",
       "max       5.000000e+00  7.000000e+00  6.990000e+01      9.800000e+01   \n",
       "\n",
       "       birthweight_g  last_norm_menses_mn  last_norm_menses_yr      birth_mn  \\\n",
       "count   3.798574e+06         3.623781e+06         3.634686e+06  3.801534e+06   \n",
       "mean    3.261649e+03         6.608613e+00         2.017248e+03  6.560880e+00   \n",
       "std     5.904779e+02         3.477206e+00         4.334201e-01  3.419287e+00   \n",
       "min     2.270000e+02         1.000000e+00         2.016000e+03  1.000000e+00   \n",
       "25%     2.960000e+03         4.000000e+00         2.017000e+03  4.000000e+00   \n",
       "50%     3.300000e+03         7.000000e+00         2.017000e+03  7.000000e+00   \n",
       "75%     3.629000e+03         1.000000e+01         2.017000e+03  9.000000e+00   \n",
       "max     8.165000e+03         1.200000e+01         2.018000e+03  1.200000e+01   \n",
       "\n",
       "         birth_time      birth_dy  ...  mn_prenatalcare_began  \\\n",
       "count  3.801218e+06  3.801534e+06  ...           3.705862e+06   \n",
       "mean   1.228447e+03  4.059289e+00  ...           2.901963e+00   \n",
       "std    6.315904e+02  1.852540e+00  ...           1.522518e+00   \n",
       "min    0.000000e+00  1.000000e+00  ...           0.000000e+00   \n",
       "25%    7.590000e+02  3.000000e+00  ...           2.000000e+00   \n",
       "50%    1.236000e+03  4.000000e+00  ...           3.000000e+00   \n",
       "75%    1.733000e+03  6.000000e+00  ...           3.000000e+00   \n",
       "max    2.359000e+03  7.000000e+00  ...           1.000000e+01   \n",
       "\n",
       "       num_prenatal_visits  prior_births_dead  prior_births_living  \\\n",
       "count         3.705917e+06       3.791288e+06         3.793816e+06   \n",
       "mean          1.129048e+01       1.514156e-02         1.138918e+00   \n",
       "std           4.200561e+00       1.820914e-01         1.304771e+00   \n",
       "min           0.000000e+00       0.000000e+00         0.000000e+00   \n",
       "25%           9.000000e+00       0.000000e+00         0.000000e+00   \n",
       "50%           1.200000e+01       0.000000e+00         1.000000e+00   \n",
       "75%           1.300000e+01       0.000000e+00         2.000000e+00   \n",
       "max           9.800000e+01       1.300000e+01         1.800000e+01   \n",
       "\n",
       "       prior_terminations  prepreg_weight  delivery_method    res_status  \\\n",
       "count        3.788758e+06    3.725000e+06     3.799906e+06  3.801534e+06   \n",
       "mean         4.299018e-01    1.590928e+02     1.796411e+00  1.331968e+00   \n",
       "std          8.964494e-01    4.191389e+01     1.162220e+00  5.339529e-01   \n",
       "min          0.000000e+00    7.500000e+01     1.000000e+00  1.000000e+00   \n",
       "25%          0.000000e+00    1.300000e+02     1.000000e+00  1.000000e+00   \n",
       "50%          0.000000e+00    1.500000e+02     1.000000e+00  1.000000e+00   \n",
       "75%          1.000000e+00    1.800000e+02     3.000000e+00  2.000000e+00   \n",
       "max          2.800000e+01    3.750000e+02     6.000000e+00  4.000000e+00   \n",
       "\n",
       "       num_prev_cesareans   weight_gain  \n",
       "count        3.797480e+06  3.684346e+06  \n",
       "mean         2.225126e-01  2.947331e+01  \n",
       "std          5.898300e-01  1.515072e+01  \n",
       "min          0.000000e+00  0.000000e+00  \n",
       "25%          0.000000e+00  2.000000e+01  \n",
       "50%          0.000000e+00  2.900000e+01  \n",
       "75%          0.000000e+00  3.800000e+01  \n",
       "max          1.100000e+01  9.800000e+01  \n",
       "\n",
       "[8 rows x 39 columns]"
      ]
     },
     "execution_count": 113,
     "metadata": {},
     "output_type": "execute_result"
    }
   ],
   "source": [
    "df.describe()"
   ]
  },
  {
   "cell_type": "code",
   "execution_count": 130,
   "metadata": {},
   "outputs": [
    {
     "name": "stdout",
     "output_type": "stream",
     "text": [
      "<class 'pandas.core.frame.DataFrame'>\n",
      "RangeIndex: 3801534 entries, 0 to 3801533\n",
      "Data columns (total 39 columns):\n",
      " #   Column                 Dtype  \n",
      "---  ------                 -----  \n",
      " 0   birth_attendant        float64\n",
      " 1   birth_place            float64\n",
      " 2   bmi                    float64\n",
      " 3   cigs_before_preg       float64\n",
      " 4   birthweight_g          float64\n",
      " 5   birth_mn               int64  \n",
      " 6   birth_time             float64\n",
      " 7   birth_dy               int64  \n",
      " 8   m_deliveryweight       float64\n",
      " 9   f_age                  float64\n",
      " 10  f_education            float64\n",
      " 11  f_hispanic             float64\n",
      " 12  f_race6                float64\n",
      " 13  gonorrhea              object \n",
      " 14  labour_induced         object \n",
      " 15  m_age                  int64  \n",
      " 16  m_nativity             float64\n",
      " 17  m_education            float64\n",
      " 18  m_hispanic             float64\n",
      " 19  admit_icu              object \n",
      " 20  m_race6                int64  \n",
      " 21  m_transferred          object \n",
      " 22  m_height_in            float64\n",
      " 23  infections             object \n",
      " 24  m_morbidity            object \n",
      " 25  riskf                  object \n",
      " 26  payment                float64\n",
      " 27  mn_prenatalcare_began  float64\n",
      " 28  num_prenatal_visits    float64\n",
      " 29  prior_births_dead      float64\n",
      " 30  prior_births_living    float64\n",
      " 31  prior_terminations     float64\n",
      " 32  prepreg_weight         float64\n",
      " 33  delivery_method        float64\n",
      " 34  res_status             int64  \n",
      " 35  prev_cesarean          object \n",
      " 36  num_prev_cesareans     float64\n",
      " 37  infant_sex             object \n",
      " 38  time_since_menses      float64\n",
      "dtypes: float64(25), int64(5), object(9)\n",
      "memory usage: 1.1+ GB\n"
     ]
    }
   ],
   "source": [
    "df.info()"
   ]
  },
  {
   "cell_type": "code",
   "execution_count": 115,
   "metadata": {},
   "outputs": [],
   "source": [
    "def convert_binary(data, col_name):\n",
    "    data[col_name] = data[col_name].mask(data[col_name] == 'Y', 1)\n",
    "    data[col_name] = data[col_name].mask(data[col_name] == 'N', 0)\n",
    "\n",
    "cols = ['gonorrhea','labour_induced','admit_icu','m_transferred','infections','m_morbidity','prev_cesarean', 'riskf']\n",
    "\n",
    "for i in cols:\n",
    "    convert_binary(df, i)"
   ]
  },
  {
   "cell_type": "code",
   "execution_count": 116,
   "metadata": {},
   "outputs": [],
   "source": [
    "df['infant_sex'] = df['infant_sex'].mask(df['infant_sex'] == 'M', 1)\n",
    "df['infant_sex'] = df['infant_sex'].mask(df['infant_sex'] == 'F', 0)"
   ]
  },
  {
   "cell_type": "code",
   "execution_count": 117,
   "metadata": {},
   "outputs": [],
   "source": [
    "#def convert_int(data, col_name):\n",
    " #   data[col_name] = data[col_name].astype(int)\n",
    "    \n",
    "#cols = ['gonorrhea','labour_induced','admit_icu','m_transferred','infections','m_morbidity','riskf','infant_sex']\n",
    "\n",
    "#for i in cols:\n",
    " #   convert_int(df, i)"
   ]
  },
  {
   "cell_type": "code",
   "execution_count": 118,
   "metadata": {},
   "outputs": [],
   "source": [
    "#drop recoded\n",
    "df = df.drop(['f_race15','f_race31','m_race15','m_race31'], axis=1)"
   ]
  },
  {
   "cell_type": "code",
   "execution_count": 119,
   "metadata": {},
   "outputs": [],
   "source": [
    "#drop those with too many missing values\n",
    "df = df.drop(['last_live_birth_mn','last_preg_mn'], axis=1)"
   ]
  },
  {
   "cell_type": "code",
   "execution_count": 120,
   "metadata": {},
   "outputs": [
    {
     "name": "stdout",
     "output_type": "stream",
     "text": [
      "8.27% of infants born in US in 2018 were LBW infants\n",
      "1.37% of infants born in US in 2018 were very-LBW infants\n"
     ]
    }
   ],
   "source": [
    "print('{:.2f}% of infants born in US in 2018 were LBW infants'.\\\n",
    "      format(1e2*len(df[df['birthweight_g'] < 2500])/len(df)))\n",
    "print('{:.2f}% of infants born in US in 2018 were very-LBW infants'.\\\n",
    "      format(1e2*len(df[df['birthweight_g'] < 1500])/len(df)))"
   ]
  },
  {
   "cell_type": "code",
   "execution_count": 121,
   "metadata": {},
   "outputs": [],
   "source": [
    "#idx = df[df['birthweight_g'] < 300].index\n",
    "#df.drop(idx, inplace=True)"
   ]
  },
  {
   "cell_type": "code",
   "execution_count": 122,
   "metadata": {},
   "outputs": [],
   "source": [
    "#idx = df[df['birthweight_g'] > 7000].index\n",
    "#df.drop(idx, inplace=True)"
   ]
  },
  {
   "cell_type": "code",
   "execution_count": 123,
   "metadata": {},
   "outputs": [],
   "source": [
    "#dropping marital_stat because something wrong with encoding\n",
    "#dropping weight_gain because will encode weight_change later instead\n",
    "df = df.drop(['marital_stat','weight_gain'], axis=1)"
   ]
  },
  {
   "cell_type": "markdown",
   "metadata": {},
   "source": [
    "* Encoding time between birth and menses, instead of date of last menses"
   ]
  },
  {
   "cell_type": "code",
   "execution_count": 124,
   "metadata": {},
   "outputs": [],
   "source": [
    "df['last_menses_day'] = 15\n",
    "   \n",
    "last_menses = pd.DataFrame({'year': df['last_norm_menses_yr'], \n",
    "                            'month': df['last_norm_menses_mn'], \n",
    "                            'day': df['last_menses_day']}) \n",
    "df['last_menses'] = pd.to_datetime(last_menses)\n",
    "\n",
    "df = df.drop(['last_norm_menses_yr','last_norm_menses_mn','last_menses_day'], axis=1)"
   ]
  },
  {
   "cell_type": "code",
   "execution_count": 125,
   "metadata": {},
   "outputs": [],
   "source": [
    "dob = pd.DataFrame({'year': df['birth_yr'],\n",
    "                    'month': df['birth_mn'], \n",
    "                    'day': df['birth_dy']})  \n",
    "df['dob'] = pd.to_datetime(dob)\n",
    "\n",
    "df = df.drop(['birth_yr'], axis=1)"
   ]
  },
  {
   "cell_type": "code",
   "execution_count": 126,
   "metadata": {},
   "outputs": [],
   "source": [
    "df['time_since_menses'] = (df['dob'] - df['last_menses'])\n",
    "\n",
    "df = df.drop(['last_menses','dob'], axis=1)"
   ]
  },
  {
   "cell_type": "code",
   "execution_count": 129,
   "metadata": {},
   "outputs": [
    {
     "data": {
      "text/plain": [
       "0          262.0\n",
       "1            NaN\n",
       "2          262.0\n",
       "3          232.0\n",
       "4            NaN\n",
       "           ...  \n",
       "3801529    231.0\n",
       "3801530    262.0\n",
       "3801531    232.0\n",
       "3801532    140.0\n",
       "3801533    265.0\n",
       "Name: time_since_menses, Length: 3801534, dtype: float64"
      ]
     },
     "execution_count": 129,
     "metadata": {},
     "output_type": "execute_result"
    }
   ],
   "source": [
    "df['time_since_menses']"
   ]
  },
  {
   "cell_type": "code",
   "execution_count": 128,
   "metadata": {},
   "outputs": [],
   "source": [
    "df['time_since_menses'] = df['time_since_menses'].dt.days"
   ]
  },
  {
   "cell_type": "code",
   "execution_count": null,
   "metadata": {},
   "outputs": [],
   "source": [
    "df.to_csv('Data/Processed_data_full.csv')\n",
    "#df.to_csv('Data/Processed_data.csv')"
   ]
  },
  {
   "cell_type": "markdown",
   "metadata": {},
   "source": [
    "#### Imputation"
   ]
  },
  {
   "cell_type": "markdown",
   "metadata": {},
   "source": [
    "* Tried making a processing pipeline, for both numeric and categorical data - currently not working "
   ]
  },
  {
   "cell_type": "code",
   "execution_count": 28,
   "metadata": {},
   "outputs": [],
   "source": [
    "#from sklearn.pipeline import Pipeline\n",
    "#from sklearn.compose import ColumnTransformer\n",
    "#from sklearn.preprocessing import StandardScaler, OneHotEncoder"
   ]
  },
  {
   "cell_type": "code",
   "execution_count": 143,
   "metadata": {},
   "outputs": [],
   "source": [
    "#df_numeric = df.select_dtypes(include = ['number'])\n",
    "#numeric_cols = df_numeric.columns\n",
    "\n",
    "#df_cat = df.select_dtypes(include = ['object'])\n",
    "#cat_cols = df_cat.columns"
   ]
  },
  {
   "cell_type": "code",
   "execution_count": 144,
   "metadata": {},
   "outputs": [],
   "source": [
    "#numeric_transformer = Pipeline(steps=[\n",
    "  #  ('imputer', IterativeImputer(random_state=0))])\n",
    "#could add ('scaler', StandardScaler())\n",
    "\n",
    "#categorical_transformer = Pipeline(steps=[\n",
    " #   ('imputer', SimpleImputer(strategy='most_frequent'))])\n",
    "#could add ('onehot', OneHotEncoder())\n",
    "\n",
    "##Or could I use np.round(pd.DataFrame(imputer.fit_transform(df))) for the categorical?\n",
    "\n",
    "#preprocessor = ColumnTransformer(\n",
    " #   transformers=[\n",
    "  #      ('num', numeric_transformer, numeric_cols),\n",
    "   #     ('cat', categorical_transformer, cat_cols)])"
   ]
  },
  {
   "cell_type": "code",
   "execution_count": 145,
   "metadata": {},
   "outputs": [],
   "source": [
    "#df_processed = preprocessor.fit_transform(df)"
   ]
  },
  {
   "cell_type": "code",
   "execution_count": 146,
   "metadata": {},
   "outputs": [],
   "source": [
    "#df_processed = pd.DataFrame(df_processed)\n",
    "#df_colnames = df.columns\n",
    "#df_processed.columns = df_colnames"
   ]
  },
  {
   "cell_type": "code",
   "execution_count": null,
   "metadata": {},
   "outputs": [],
   "source": [
    "#df_processed.head()"
   ]
  },
  {
   "cell_type": "markdown",
   "metadata": {},
   "source": [
    "* Iterative imputer"
   ]
  },
  {
   "cell_type": "code",
   "execution_count": null,
   "metadata": {},
   "outputs": [],
   "source": [
    "imputer = IterativeImputer(random_state=0)\n",
    "df_imputed = pd.DataFrame(imputer.fit_transform(df))"
   ]
  },
  {
   "cell_type": "code",
   "execution_count": null,
   "metadata": {},
   "outputs": [],
   "source": [
    "df_colnames = df.columns\n",
    "df_imputed.columns = df_colnames"
   ]
  },
  {
   "cell_type": "code",
   "execution_count": 121,
   "metadata": {},
   "outputs": [],
   "source": [
    "df_imputed.to_csv('Data/MICE_data_toy.csv')"
   ]
  },
  {
   "cell_type": "markdown",
   "metadata": {},
   "source": [
    "* Post-imputation final processing"
   ]
  },
  {
   "cell_type": "code",
   "execution_count": null,
   "metadata": {},
   "outputs": [],
   "source": [
    "df_imputed = pd.read_csv('Data/MICE_data2.csv')"
   ]
  },
  {
   "cell_type": "code",
   "execution_count": null,
   "metadata": {},
   "outputs": [],
   "source": [
    "df_imputed['weight_change'] = df_imputed['m_deliveryweight'] - df_imputed['prepreg_weight']"
   ]
  },
  {
   "cell_type": "code",
   "execution_count": null,
   "metadata": {},
   "outputs": [],
   "source": [
    "df_bin = df_imputed.copy()\n",
    "df_bin['birthweight_bin'] = np.where(df_bin['birthweight_g'] < 2500, 1, 0)\n",
    "\n",
    "df_cat = df_bin.copy()\n",
    "df_cat['birthweight_cat'] = np.where(df_cat['birthweight_g'] < 1500, 2, df_cat['birthweight_bin'])\n",
    "\n",
    "df_bin = df_bin.drop(['birthweight_g'], axis=1)\n",
    "df_cat = df_cat.drop(['birthweight_g', 'birthweight_bin'], axis=1)"
   ]
  },
  {
   "cell_type": "code",
   "execution_count": null,
   "metadata": {},
   "outputs": [],
   "source": [
    "df_imputed.to_csv('Data/MICE_processed.csv')\n",
    "df_bin.to_csv('Data/MICE_bin_processed.csv')\n",
    "df_cat.to_csv('Data/MICE_cat_processed.csv')"
   ]
  },
  {
   "cell_type": "markdown",
   "metadata": {},
   "source": [
    "* Trying KNN imputation to see if this is better for categorical numerical variables "
   ]
  },
  {
   "cell_type": "code",
   "execution_count": 10,
   "metadata": {},
   "outputs": [
    {
     "name": "stderr",
     "output_type": "stream",
     "text": [
      "/rds/general/user/cam119/home/anaconda3/envs/ML_project/lib/python3.6/site-packages/IPython/core/interactiveshell.py:3063: DtypeWarning: Columns (8) have mixed types.Specify dtype option on import or set low_memory=False.\n",
      "  interactivity=interactivity, compiler=compiler, result=result)\n"
     ]
    }
   ],
   "source": [
    "df = pd.read_csv('Data/Processed_data_full.csv')"
   ]
  },
  {
   "cell_type": "code",
   "execution_count": 11,
   "metadata": {},
   "outputs": [
    {
     "data": {
      "text/html": [
       "<div>\n",
       "<style scoped>\n",
       "    .dataframe tbody tr th:only-of-type {\n",
       "        vertical-align: middle;\n",
       "    }\n",
       "\n",
       "    .dataframe tbody tr th {\n",
       "        vertical-align: top;\n",
       "    }\n",
       "\n",
       "    .dataframe thead th {\n",
       "        text-align: right;\n",
       "    }\n",
       "</style>\n",
       "<table border=\"1\" class=\"dataframe\">\n",
       "  <thead>\n",
       "    <tr style=\"text-align: right;\">\n",
       "      <th></th>\n",
       "      <th>Unnamed: 0</th>\n",
       "      <th>birth_attendant</th>\n",
       "      <th>birth_place</th>\n",
       "      <th>bmi</th>\n",
       "      <th>cigs_before_preg</th>\n",
       "      <th>birthweight_g</th>\n",
       "      <th>last_norm_menses_mn</th>\n",
       "      <th>last_norm_menses_yr</th>\n",
       "      <th>marital_stat</th>\n",
       "      <th>birth_mn</th>\n",
       "      <th>...</th>\n",
       "      <th>prior_births_dead</th>\n",
       "      <th>prior_births_living</th>\n",
       "      <th>prior_terminations</th>\n",
       "      <th>prepreg_weight</th>\n",
       "      <th>delivery_method</th>\n",
       "      <th>res_status</th>\n",
       "      <th>prev_cesarean</th>\n",
       "      <th>num_prev_cesareans</th>\n",
       "      <th>infant_sex</th>\n",
       "      <th>weight_gain</th>\n",
       "    </tr>\n",
       "  </thead>\n",
       "  <tbody>\n",
       "    <tr>\n",
       "      <th>0</th>\n",
       "      <td>0</td>\n",
       "      <td>1.0</td>\n",
       "      <td>1.0</td>\n",
       "      <td>30.7</td>\n",
       "      <td>0.0</td>\n",
       "      <td>3657.0</td>\n",
       "      <td>4.0</td>\n",
       "      <td>2017.0</td>\n",
       "      <td>1</td>\n",
       "      <td>1</td>\n",
       "      <td>...</td>\n",
       "      <td>0.0</td>\n",
       "      <td>1.0</td>\n",
       "      <td>2.0</td>\n",
       "      <td>190.0</td>\n",
       "      <td>1.0</td>\n",
       "      <td>2</td>\n",
       "      <td>0.0</td>\n",
       "      <td>0.0</td>\n",
       "      <td>1</td>\n",
       "      <td>41.0</td>\n",
       "    </tr>\n",
       "    <tr>\n",
       "      <th>1</th>\n",
       "      <td>1</td>\n",
       "      <td>1.0</td>\n",
       "      <td>1.0</td>\n",
       "      <td>33.3</td>\n",
       "      <td>2.0</td>\n",
       "      <td>3242.0</td>\n",
       "      <td>NaN</td>\n",
       "      <td>NaN</td>\n",
       "      <td>2</td>\n",
       "      <td>1</td>\n",
       "      <td>...</td>\n",
       "      <td>0.0</td>\n",
       "      <td>2.0</td>\n",
       "      <td>0.0</td>\n",
       "      <td>188.0</td>\n",
       "      <td>4.0</td>\n",
       "      <td>2</td>\n",
       "      <td>1.0</td>\n",
       "      <td>2.0</td>\n",
       "      <td>0</td>\n",
       "      <td>0.0</td>\n",
       "    </tr>\n",
       "    <tr>\n",
       "      <th>2</th>\n",
       "      <td>2</td>\n",
       "      <td>1.0</td>\n",
       "      <td>1.0</td>\n",
       "      <td>30.0</td>\n",
       "      <td>0.0</td>\n",
       "      <td>3470.0</td>\n",
       "      <td>4.0</td>\n",
       "      <td>2017.0</td>\n",
       "      <td>1</td>\n",
       "      <td>1</td>\n",
       "      <td>...</td>\n",
       "      <td>0.0</td>\n",
       "      <td>1.0</td>\n",
       "      <td>0.0</td>\n",
       "      <td>215.0</td>\n",
       "      <td>1.0</td>\n",
       "      <td>1</td>\n",
       "      <td>0.0</td>\n",
       "      <td>0.0</td>\n",
       "      <td>1</td>\n",
       "      <td>58.0</td>\n",
       "    </tr>\n",
       "    <tr>\n",
       "      <th>3</th>\n",
       "      <td>3</td>\n",
       "      <td>3.0</td>\n",
       "      <td>1.0</td>\n",
       "      <td>23.7</td>\n",
       "      <td>0.0</td>\n",
       "      <td>3140.0</td>\n",
       "      <td>5.0</td>\n",
       "      <td>2017.0</td>\n",
       "      <td>2</td>\n",
       "      <td>1</td>\n",
       "      <td>...</td>\n",
       "      <td>0.0</td>\n",
       "      <td>2.0</td>\n",
       "      <td>0.0</td>\n",
       "      <td>138.0</td>\n",
       "      <td>1.0</td>\n",
       "      <td>2</td>\n",
       "      <td>0.0</td>\n",
       "      <td>0.0</td>\n",
       "      <td>0</td>\n",
       "      <td>0.0</td>\n",
       "    </tr>\n",
       "    <tr>\n",
       "      <th>4</th>\n",
       "      <td>4</td>\n",
       "      <td>1.0</td>\n",
       "      <td>1.0</td>\n",
       "      <td>35.5</td>\n",
       "      <td>0.0</td>\n",
       "      <td>2125.0</td>\n",
       "      <td>NaN</td>\n",
       "      <td>NaN</td>\n",
       "      <td>1</td>\n",
       "      <td>1</td>\n",
       "      <td>...</td>\n",
       "      <td>0.0</td>\n",
       "      <td>1.0</td>\n",
       "      <td>4.0</td>\n",
       "      <td>220.0</td>\n",
       "      <td>3.0</td>\n",
       "      <td>1</td>\n",
       "      <td>0.0</td>\n",
       "      <td>0.0</td>\n",
       "      <td>1</td>\n",
       "      <td>0.0</td>\n",
       "    </tr>\n",
       "  </tbody>\n",
       "</table>\n",
       "<p>5 rows × 43 columns</p>\n",
       "</div>"
      ],
      "text/plain": [
       "   Unnamed: 0  birth_attendant  birth_place   bmi  cigs_before_preg  \\\n",
       "0           0              1.0          1.0  30.7               0.0   \n",
       "1           1              1.0          1.0  33.3               2.0   \n",
       "2           2              1.0          1.0  30.0               0.0   \n",
       "3           3              3.0          1.0  23.7               0.0   \n",
       "4           4              1.0          1.0  35.5               0.0   \n",
       "\n",
       "   birthweight_g  last_norm_menses_mn  last_norm_menses_yr marital_stat  \\\n",
       "0         3657.0                  4.0               2017.0            1   \n",
       "1         3242.0                  NaN                  NaN            2   \n",
       "2         3470.0                  4.0               2017.0            1   \n",
       "3         3140.0                  5.0               2017.0            2   \n",
       "4         2125.0                  NaN                  NaN            1   \n",
       "\n",
       "   birth_mn  ...  prior_births_dead  prior_births_living  prior_terminations  \\\n",
       "0         1  ...                0.0                  1.0                 2.0   \n",
       "1         1  ...                0.0                  2.0                 0.0   \n",
       "2         1  ...                0.0                  1.0                 0.0   \n",
       "3         1  ...                0.0                  2.0                 0.0   \n",
       "4         1  ...                0.0                  1.0                 4.0   \n",
       "\n",
       "   prepreg_weight  delivery_method  res_status  prev_cesarean  \\\n",
       "0           190.0              1.0           2            0.0   \n",
       "1           188.0              4.0           2            1.0   \n",
       "2           215.0              1.0           1            0.0   \n",
       "3           138.0              1.0           2            0.0   \n",
       "4           220.0              3.0           1            0.0   \n",
       "\n",
       "   num_prev_cesareans  infant_sex  weight_gain  \n",
       "0                 0.0           1         41.0  \n",
       "1                 2.0           0          0.0  \n",
       "2                 0.0           1         58.0  \n",
       "3                 0.0           0          0.0  \n",
       "4                 0.0           1          0.0  \n",
       "\n",
       "[5 rows x 43 columns]"
      ]
     },
     "execution_count": 11,
     "metadata": {},
     "output_type": "execute_result"
    }
   ],
   "source": [
    "df.head()"
   ]
  },
  {
   "cell_type": "code",
   "execution_count": 107,
   "metadata": {},
   "outputs": [],
   "source": [
    "df_KNN = df.copy()"
   ]
  },
  {
   "cell_type": "code",
   "execution_count": 109,
   "metadata": {},
   "outputs": [],
   "source": [
    "KNN_imputer = KNNImputer(n_neighbors=5)\n",
    "df_KNN = KNN_imputer.fit_transform(df)\n",
    "df_KNN = pd.DataFrame(df_KNN)"
   ]
  },
  {
   "cell_type": "code",
   "execution_count": 113,
   "metadata": {},
   "outputs": [],
   "source": [
    "df_colnames = df.columns\n",
    "df_KNN.columns = df_colnames"
   ]
  },
  {
   "cell_type": "code",
   "execution_count": 122,
   "metadata": {},
   "outputs": [],
   "source": [
    "df_knn_bin = pd.DataFrame.copy(df_KNN)\n",
    "df_knn_bin['birthweight_bin'] = np.where(df_knn_bin['birthweight_g'] < 2500, 1, 0)"
   ]
  },
  {
   "cell_type": "code",
   "execution_count": 123,
   "metadata": {},
   "outputs": [],
   "source": [
    "df_knn_cat = pd.DataFrame.copy(df_knn_bin)\n",
    "df_knn_cat['birthweight_cat'] = np.where(df_knn_cat['birthweight_g'] < 1500, 2, df_knn_cat['birthweight_bin'])"
   ]
  },
  {
   "cell_type": "code",
   "execution_count": 124,
   "metadata": {},
   "outputs": [],
   "source": [
    "df_knn_bin = df_knn_bin.drop(['birthweight_g'], axis=1)\n",
    "df_knn_cat = df_knn_cat.drop(['birthweight_g', 'birthweight_bin'], axis=1)"
   ]
  },
  {
   "cell_type": "code",
   "execution_count": 125,
   "metadata": {},
   "outputs": [],
   "source": [
    "df_KNN.to_csv('Data/KNN_data_toy.csv')\n",
    "df_knn_bin.to_csv('Data/KNN_data_bin_toy.csv')\n",
    "df_knn_cat.to_csv('Data/KNN_data_cat_toy.csv')"
   ]
  }
 ],
 "metadata": {
  "kernelspec": {
   "display_name": "ML project",
   "language": "python",
   "name": "ml_project"
  },
  "language_info": {
   "codemirror_mode": {
    "name": "ipython",
    "version": 3
   },
   "file_extension": ".py",
   "mimetype": "text/x-python",
   "name": "python",
   "nbconvert_exporter": "python",
   "pygments_lexer": "ipython3",
   "version": "3.6.10"
  }
 },
 "nbformat": 4,
 "nbformat_minor": 4
}
