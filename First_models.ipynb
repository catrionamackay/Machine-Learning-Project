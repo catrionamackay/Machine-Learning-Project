{
 "cells": [
  {
   "cell_type": "code",
   "execution_count": 1,
   "metadata": {},
   "outputs": [],
   "source": [
    "import pandas as pd\n",
    "import numpy as np\n",
    "import matplotlib.pyplot as plt\n",
    "import seaborn as sns \n",
    "from sklearn.linear_model import LinearRegression\n",
    "from sklearn.model_selection import train_test_split"
   ]
  },
  {
   "cell_type": "code",
   "execution_count": 2,
   "metadata": {},
   "outputs": [
    {
     "name": "stderr",
     "output_type": "stream",
     "text": [
      "/rds/general/user/cam119/home/anaconda3/envs/ML_project/lib/python3.6/site-packages/numpy/lib/arraysetops.py:569: FutureWarning: elementwise comparison failed; returning scalar instead, but in the future will perform elementwise comparison\n",
      "  mask |= (ar1 == a)\n"
     ]
    }
   ],
   "source": [
    "#df = pd.read_csv('Data/Processed_data.csv', index_col=[0])\n",
    "df = pd.read_csv('Data/MICE_data.csv', index_col=[0])"
   ]
  },
  {
   "cell_type": "code",
   "execution_count": 26,
   "metadata": {},
   "outputs": [],
   "source": [
    "#df.columns.get_loc('birthweight_g')"
   ]
  },
  {
   "cell_type": "code",
   "execution_count": 3,
   "metadata": {},
   "outputs": [
    {
     "data": {
      "text/html": [
       "<div>\n",
       "<style scoped>\n",
       "    .dataframe tbody tr th:only-of-type {\n",
       "        vertical-align: middle;\n",
       "    }\n",
       "\n",
       "    .dataframe tbody tr th {\n",
       "        vertical-align: top;\n",
       "    }\n",
       "\n",
       "    .dataframe thead th {\n",
       "        text-align: right;\n",
       "    }\n",
       "</style>\n",
       "<table border=\"1\" class=\"dataframe\">\n",
       "  <thead>\n",
       "    <tr style=\"text-align: right;\">\n",
       "      <th></th>\n",
       "      <th>birth_attendant</th>\n",
       "      <th>birth_place</th>\n",
       "      <th>bmi</th>\n",
       "      <th>cigs_before_preg</th>\n",
       "      <th>birthweight_g</th>\n",
       "      <th>last_norm_menses_mn</th>\n",
       "      <th>last_norm_menses_yr</th>\n",
       "      <th>birth_mn</th>\n",
       "      <th>birth_time</th>\n",
       "      <th>birth_dy</th>\n",
       "      <th>...</th>\n",
       "      <th>prior_births_dead</th>\n",
       "      <th>prior_births_living</th>\n",
       "      <th>prior_terminations</th>\n",
       "      <th>prepreg_weight</th>\n",
       "      <th>delivery_method</th>\n",
       "      <th>res_status</th>\n",
       "      <th>prev_cesarean</th>\n",
       "      <th>num_prev_cesareans</th>\n",
       "      <th>infant_sex</th>\n",
       "      <th>weight_gain</th>\n",
       "    </tr>\n",
       "  </thead>\n",
       "  <tbody>\n",
       "    <tr>\n",
       "      <th>0</th>\n",
       "      <td>1.0</td>\n",
       "      <td>1.0</td>\n",
       "      <td>30.7</td>\n",
       "      <td>0.0</td>\n",
       "      <td>3657.0</td>\n",
       "      <td>4.000000</td>\n",
       "      <td>2017.000000</td>\n",
       "      <td>1.0</td>\n",
       "      <td>1227.0</td>\n",
       "      <td>2.0</td>\n",
       "      <td>...</td>\n",
       "      <td>0.0</td>\n",
       "      <td>1.0</td>\n",
       "      <td>2.0</td>\n",
       "      <td>190.0</td>\n",
       "      <td>1.0</td>\n",
       "      <td>2.0</td>\n",
       "      <td>0.0</td>\n",
       "      <td>0.0</td>\n",
       "      <td>1.0</td>\n",
       "      <td>41.0</td>\n",
       "    </tr>\n",
       "    <tr>\n",
       "      <th>1</th>\n",
       "      <td>1.0</td>\n",
       "      <td>1.0</td>\n",
       "      <td>33.3</td>\n",
       "      <td>2.0</td>\n",
       "      <td>3242.0</td>\n",
       "      <td>6.811794</td>\n",
       "      <td>2016.777958</td>\n",
       "      <td>1.0</td>\n",
       "      <td>1704.0</td>\n",
       "      <td>2.0</td>\n",
       "      <td>...</td>\n",
       "      <td>0.0</td>\n",
       "      <td>2.0</td>\n",
       "      <td>0.0</td>\n",
       "      <td>188.0</td>\n",
       "      <td>4.0</td>\n",
       "      <td>2.0</td>\n",
       "      <td>1.0</td>\n",
       "      <td>2.0</td>\n",
       "      <td>0.0</td>\n",
       "      <td>0.0</td>\n",
       "    </tr>\n",
       "    <tr>\n",
       "      <th>2</th>\n",
       "      <td>1.0</td>\n",
       "      <td>1.0</td>\n",
       "      <td>30.0</td>\n",
       "      <td>0.0</td>\n",
       "      <td>3470.0</td>\n",
       "      <td>4.000000</td>\n",
       "      <td>2017.000000</td>\n",
       "      <td>1.0</td>\n",
       "      <td>336.0</td>\n",
       "      <td>2.0</td>\n",
       "      <td>...</td>\n",
       "      <td>0.0</td>\n",
       "      <td>1.0</td>\n",
       "      <td>0.0</td>\n",
       "      <td>215.0</td>\n",
       "      <td>1.0</td>\n",
       "      <td>1.0</td>\n",
       "      <td>0.0</td>\n",
       "      <td>0.0</td>\n",
       "      <td>1.0</td>\n",
       "      <td>58.0</td>\n",
       "    </tr>\n",
       "    <tr>\n",
       "      <th>3</th>\n",
       "      <td>3.0</td>\n",
       "      <td>1.0</td>\n",
       "      <td>23.7</td>\n",
       "      <td>0.0</td>\n",
       "      <td>3140.0</td>\n",
       "      <td>5.000000</td>\n",
       "      <td>2017.000000</td>\n",
       "      <td>1.0</td>\n",
       "      <td>938.0</td>\n",
       "      <td>2.0</td>\n",
       "      <td>...</td>\n",
       "      <td>0.0</td>\n",
       "      <td>2.0</td>\n",
       "      <td>0.0</td>\n",
       "      <td>138.0</td>\n",
       "      <td>1.0</td>\n",
       "      <td>2.0</td>\n",
       "      <td>0.0</td>\n",
       "      <td>0.0</td>\n",
       "      <td>0.0</td>\n",
       "      <td>0.0</td>\n",
       "    </tr>\n",
       "    <tr>\n",
       "      <th>4</th>\n",
       "      <td>1.0</td>\n",
       "      <td>1.0</td>\n",
       "      <td>35.5</td>\n",
       "      <td>0.0</td>\n",
       "      <td>2125.0</td>\n",
       "      <td>6.822145</td>\n",
       "      <td>2016.826229</td>\n",
       "      <td>1.0</td>\n",
       "      <td>830.0</td>\n",
       "      <td>3.0</td>\n",
       "      <td>...</td>\n",
       "      <td>0.0</td>\n",
       "      <td>1.0</td>\n",
       "      <td>4.0</td>\n",
       "      <td>220.0</td>\n",
       "      <td>3.0</td>\n",
       "      <td>1.0</td>\n",
       "      <td>0.0</td>\n",
       "      <td>0.0</td>\n",
       "      <td>1.0</td>\n",
       "      <td>0.0</td>\n",
       "    </tr>\n",
       "  </tbody>\n",
       "</table>\n",
       "<p>5 rows × 41 columns</p>\n",
       "</div>"
      ],
      "text/plain": [
       "   birth_attendant  birth_place   bmi  cigs_before_preg  birthweight_g  \\\n",
       "0              1.0          1.0  30.7               0.0         3657.0   \n",
       "1              1.0          1.0  33.3               2.0         3242.0   \n",
       "2              1.0          1.0  30.0               0.0         3470.0   \n",
       "3              3.0          1.0  23.7               0.0         3140.0   \n",
       "4              1.0          1.0  35.5               0.0         2125.0   \n",
       "\n",
       "   last_norm_menses_mn  last_norm_menses_yr  birth_mn  birth_time  birth_dy  \\\n",
       "0             4.000000          2017.000000       1.0      1227.0       2.0   \n",
       "1             6.811794          2016.777958       1.0      1704.0       2.0   \n",
       "2             4.000000          2017.000000       1.0       336.0       2.0   \n",
       "3             5.000000          2017.000000       1.0       938.0       2.0   \n",
       "4             6.822145          2016.826229       1.0       830.0       3.0   \n",
       "\n",
       "   ...  prior_births_dead  prior_births_living  prior_terminations  \\\n",
       "0  ...                0.0                  1.0                 2.0   \n",
       "1  ...                0.0                  2.0                 0.0   \n",
       "2  ...                0.0                  1.0                 0.0   \n",
       "3  ...                0.0                  2.0                 0.0   \n",
       "4  ...                0.0                  1.0                 4.0   \n",
       "\n",
       "   prepreg_weight  delivery_method  res_status  prev_cesarean  \\\n",
       "0           190.0              1.0         2.0            0.0   \n",
       "1           188.0              4.0         2.0            1.0   \n",
       "2           215.0              1.0         1.0            0.0   \n",
       "3           138.0              1.0         2.0            0.0   \n",
       "4           220.0              3.0         1.0            0.0   \n",
       "\n",
       "   num_prev_cesareans  infant_sex  weight_gain  \n",
       "0                 0.0         1.0         41.0  \n",
       "1                 2.0         0.0          0.0  \n",
       "2                 0.0         1.0         58.0  \n",
       "3                 0.0         0.0          0.0  \n",
       "4                 0.0         1.0          0.0  \n",
       "\n",
       "[5 rows x 41 columns]"
      ]
     },
     "execution_count": 3,
     "metadata": {},
     "output_type": "execute_result"
    }
   ],
   "source": [
    "df.head()"
   ]
  },
  {
   "cell_type": "markdown",
   "metadata": {},
   "source": [
    "### Linear Regression"
   ]
  },
  {
   "cell_type": "code",
   "execution_count": 4,
   "metadata": {},
   "outputs": [],
   "source": [
    "X = df.drop(['birthweight_g'], axis=1)\n",
    "y = df['birthweight_g']"
   ]
  },
  {
   "cell_type": "code",
   "execution_count": 5,
   "metadata": {},
   "outputs": [],
   "source": [
    "X_train, X_test, y_train, y_test = train_test_split(X, y, test_size=0.2, random_state=0)"
   ]
  },
  {
   "cell_type": "code",
   "execution_count": 6,
   "metadata": {},
   "outputs": [
    {
     "data": {
      "text/plain": [
       "LinearRegression(copy_X=True, fit_intercept=True, n_jobs=None, normalize=False)"
      ]
     },
     "execution_count": 6,
     "metadata": {},
     "output_type": "execute_result"
    }
   ],
   "source": [
    "reg = LinearRegression()\n",
    "reg.fit(X_train, y_train)"
   ]
  },
  {
   "cell_type": "code",
   "execution_count": 7,
   "metadata": {},
   "outputs": [
    {
     "data": {
      "text/html": [
       "<div>\n",
       "<style scoped>\n",
       "    .dataframe tbody tr th:only-of-type {\n",
       "        vertical-align: middle;\n",
       "    }\n",
       "\n",
       "    .dataframe tbody tr th {\n",
       "        vertical-align: top;\n",
       "    }\n",
       "\n",
       "    .dataframe thead th {\n",
       "        text-align: right;\n",
       "    }\n",
       "</style>\n",
       "<table border=\"1\" class=\"dataframe\">\n",
       "  <thead>\n",
       "    <tr style=\"text-align: right;\">\n",
       "      <th></th>\n",
       "      <th>Coefficient</th>\n",
       "    </tr>\n",
       "  </thead>\n",
       "  <tbody>\n",
       "    <tr>\n",
       "      <th>birth_attendant</th>\n",
       "      <td>28.233325</td>\n",
       "    </tr>\n",
       "    <tr>\n",
       "      <th>birth_place</th>\n",
       "      <td>6.410033</td>\n",
       "    </tr>\n",
       "    <tr>\n",
       "      <th>bmi</th>\n",
       "      <td>13.659457</td>\n",
       "    </tr>\n",
       "    <tr>\n",
       "      <th>cigs_before_preg</th>\n",
       "      <td>-5.717827</td>\n",
       "    </tr>\n",
       "    <tr>\n",
       "      <th>last_norm_menses_mn</th>\n",
       "      <td>-249.715973</td>\n",
       "    </tr>\n",
       "    <tr>\n",
       "      <th>last_norm_menses_yr</th>\n",
       "      <td>-3003.363776</td>\n",
       "    </tr>\n",
       "    <tr>\n",
       "      <th>birth_mn</th>\n",
       "      <td>249.148413</td>\n",
       "    </tr>\n",
       "    <tr>\n",
       "      <th>birth_time</th>\n",
       "      <td>-0.000423</td>\n",
       "    </tr>\n",
       "    <tr>\n",
       "      <th>birth_dy</th>\n",
       "      <td>-2.568488</td>\n",
       "    </tr>\n",
       "    <tr>\n",
       "      <th>m_deliveryweight</th>\n",
       "      <td>1.742427</td>\n",
       "    </tr>\n",
       "    <tr>\n",
       "      <th>f_age</th>\n",
       "      <td>-1.157187</td>\n",
       "    </tr>\n",
       "    <tr>\n",
       "      <th>f_education</th>\n",
       "      <td>10.431078</td>\n",
       "    </tr>\n",
       "    <tr>\n",
       "      <th>f_hispanic</th>\n",
       "      <td>-2.366823</td>\n",
       "    </tr>\n",
       "    <tr>\n",
       "      <th>f_race6</th>\n",
       "      <td>-28.902548</td>\n",
       "    </tr>\n",
       "    <tr>\n",
       "      <th>gonorrhea</th>\n",
       "      <td>-44.280434</td>\n",
       "    </tr>\n",
       "    <tr>\n",
       "      <th>labour_induced</th>\n",
       "      <td>41.787038</td>\n",
       "    </tr>\n",
       "    <tr>\n",
       "      <th>m_age</th>\n",
       "      <td>0.622980</td>\n",
       "    </tr>\n",
       "    <tr>\n",
       "      <th>m_nativity</th>\n",
       "      <td>72.698030</td>\n",
       "    </tr>\n",
       "    <tr>\n",
       "      <th>m_education</th>\n",
       "      <td>8.051519</td>\n",
       "    </tr>\n",
       "    <tr>\n",
       "      <th>m_hispanic</th>\n",
       "      <td>4.154925</td>\n",
       "    </tr>\n",
       "    <tr>\n",
       "      <th>admit_icu</th>\n",
       "      <td>-356.321954</td>\n",
       "    </tr>\n",
       "    <tr>\n",
       "      <th>m_race6</th>\n",
       "      <td>-15.823582</td>\n",
       "    </tr>\n",
       "    <tr>\n",
       "      <th>m_transferred</th>\n",
       "      <td>-576.702288</td>\n",
       "    </tr>\n",
       "    <tr>\n",
       "      <th>m_height_in</th>\n",
       "      <td>24.125201</td>\n",
       "    </tr>\n",
       "    <tr>\n",
       "      <th>infections</th>\n",
       "      <td>-43.818607</td>\n",
       "    </tr>\n",
       "    <tr>\n",
       "      <th>m_morbidity</th>\n",
       "      <td>85.937542</td>\n",
       "    </tr>\n",
       "    <tr>\n",
       "      <th>riskf</th>\n",
       "      <td>-158.893351</td>\n",
       "    </tr>\n",
       "    <tr>\n",
       "      <th>payment</th>\n",
       "      <td>26.507144</td>\n",
       "    </tr>\n",
       "    <tr>\n",
       "      <th>mn_prenatalcare_began</th>\n",
       "      <td>21.630771</td>\n",
       "    </tr>\n",
       "    <tr>\n",
       "      <th>num_prenatal_visits</th>\n",
       "      <td>14.451769</td>\n",
       "    </tr>\n",
       "    <tr>\n",
       "      <th>prior_births_dead</th>\n",
       "      <td>-39.712273</td>\n",
       "    </tr>\n",
       "    <tr>\n",
       "      <th>prior_births_living</th>\n",
       "      <td>28.810729</td>\n",
       "    </tr>\n",
       "    <tr>\n",
       "      <th>prior_terminations</th>\n",
       "      <td>-15.532400</td>\n",
       "    </tr>\n",
       "    <tr>\n",
       "      <th>prepreg_weight</th>\n",
       "      <td>-1.905406</td>\n",
       "    </tr>\n",
       "    <tr>\n",
       "      <th>delivery_method</th>\n",
       "      <td>-41.668020</td>\n",
       "    </tr>\n",
       "    <tr>\n",
       "      <th>res_status</th>\n",
       "      <td>-15.372470</td>\n",
       "    </tr>\n",
       "    <tr>\n",
       "      <th>prev_cesarean</th>\n",
       "      <td>303.658805</td>\n",
       "    </tr>\n",
       "    <tr>\n",
       "      <th>num_prev_cesareans</th>\n",
       "      <td>-25.095409</td>\n",
       "    </tr>\n",
       "    <tr>\n",
       "      <th>infant_sex</th>\n",
       "      <td>118.737436</td>\n",
       "    </tr>\n",
       "    <tr>\n",
       "      <th>weight_gain</th>\n",
       "      <td>4.543937</td>\n",
       "    </tr>\n",
       "  </tbody>\n",
       "</table>\n",
       "</div>"
      ],
      "text/plain": [
       "                       Coefficient\n",
       "birth_attendant          28.233325\n",
       "birth_place               6.410033\n",
       "bmi                      13.659457\n",
       "cigs_before_preg         -5.717827\n",
       "last_norm_menses_mn    -249.715973\n",
       "last_norm_menses_yr   -3003.363776\n",
       "birth_mn                249.148413\n",
       "birth_time               -0.000423\n",
       "birth_dy                 -2.568488\n",
       "m_deliveryweight          1.742427\n",
       "f_age                    -1.157187\n",
       "f_education              10.431078\n",
       "f_hispanic               -2.366823\n",
       "f_race6                 -28.902548\n",
       "gonorrhea               -44.280434\n",
       "labour_induced           41.787038\n",
       "m_age                     0.622980\n",
       "m_nativity               72.698030\n",
       "m_education               8.051519\n",
       "m_hispanic                4.154925\n",
       "admit_icu              -356.321954\n",
       "m_race6                 -15.823582\n",
       "m_transferred          -576.702288\n",
       "m_height_in              24.125201\n",
       "infections              -43.818607\n",
       "m_morbidity              85.937542\n",
       "riskf                  -158.893351\n",
       "payment                  26.507144\n",
       "mn_prenatalcare_began    21.630771\n",
       "num_prenatal_visits      14.451769\n",
       "prior_births_dead       -39.712273\n",
       "prior_births_living      28.810729\n",
       "prior_terminations      -15.532400\n",
       "prepreg_weight           -1.905406\n",
       "delivery_method         -41.668020\n",
       "res_status              -15.372470\n",
       "prev_cesarean           303.658805\n",
       "num_prev_cesareans      -25.095409\n",
       "infant_sex              118.737436\n",
       "weight_gain               4.543937"
      ]
     },
     "execution_count": 7,
     "metadata": {},
     "output_type": "execute_result"
    }
   ],
   "source": [
    "coeff_df = pd.DataFrame(reg.coef_, X.columns, columns=['Coefficient'])  \n",
    "coeff_df"
   ]
  },
  {
   "cell_type": "code",
   "execution_count": 8,
   "metadata": {},
   "outputs": [],
   "source": [
    "y_pred = reg.predict(X_test)"
   ]
  },
  {
   "cell_type": "code",
   "execution_count": 9,
   "metadata": {},
   "outputs": [
    {
     "data": {
      "text/html": [
       "<div>\n",
       "<style scoped>\n",
       "    .dataframe tbody tr th:only-of-type {\n",
       "        vertical-align: middle;\n",
       "    }\n",
       "\n",
       "    .dataframe tbody tr th {\n",
       "        vertical-align: top;\n",
       "    }\n",
       "\n",
       "    .dataframe thead th {\n",
       "        text-align: right;\n",
       "    }\n",
       "</style>\n",
       "<table border=\"1\" class=\"dataframe\">\n",
       "  <thead>\n",
       "    <tr style=\"text-align: right;\">\n",
       "      <th></th>\n",
       "      <th>Actual</th>\n",
       "      <th>Predicted</th>\n",
       "    </tr>\n",
       "  </thead>\n",
       "  <tbody>\n",
       "    <tr>\n",
       "      <th>2728786</th>\n",
       "      <td>2778.0</td>\n",
       "      <td>3318.517246</td>\n",
       "    </tr>\n",
       "    <tr>\n",
       "      <th>33899</th>\n",
       "      <td>3288.0</td>\n",
       "      <td>3379.519622</td>\n",
       "    </tr>\n",
       "    <tr>\n",
       "      <th>1124886</th>\n",
       "      <td>3335.0</td>\n",
       "      <td>5077.519514</td>\n",
       "    </tr>\n",
       "    <tr>\n",
       "      <th>3287270</th>\n",
       "      <td>2650.0</td>\n",
       "      <td>3217.236073</td>\n",
       "    </tr>\n",
       "    <tr>\n",
       "      <th>2904908</th>\n",
       "      <td>3460.0</td>\n",
       "      <td>3101.127342</td>\n",
       "    </tr>\n",
       "  </tbody>\n",
       "</table>\n",
       "</div>"
      ],
      "text/plain": [
       "         Actual    Predicted\n",
       "2728786  2778.0  3318.517246\n",
       "33899    3288.0  3379.519622\n",
       "1124886  3335.0  5077.519514\n",
       "3287270  2650.0  3217.236073\n",
       "2904908  3460.0  3101.127342"
      ]
     },
     "execution_count": 9,
     "metadata": {},
     "output_type": "execute_result"
    }
   ],
   "source": [
    "test_vs_pred = pd.DataFrame({'Actual': y_test, 'Predicted': y_pred})\n",
    "test_vs_pred.head()"
   ]
  },
  {
   "cell_type": "code",
   "execution_count": 11,
   "metadata": {},
   "outputs": [
    {
     "data": {
      "image/png": "[encoded data removed]",
      "text/plain": [
       "<Figure size 432x288 with 1 Axes>"
      ]
     },
     "metadata": {
      "needs_background": "light"
     },
     "output_type": "display_data"
    }
   ],
   "source": [
    "plt.scatter(y_test, y_pred, alpha=0.01)\n",
    "plt.xlabel(\"Actual birthweight (g)\")\n",
    "plt.ylabel(\"Predicted birthweight (g)\")\n",
    "plt.show()"
   ]
  },
  {
   "cell_type": "code",
   "execution_count": 184,
   "metadata": {},
   "outputs": [],
   "source": [
    "#PCA on train data to get components to retry linear regression?\n",
    "#scaler = StandardScaler()\n",
    "#scaler.fit(X_train)\n",
    "\n",
    "#X_train_scaled = scaler.transform(X_train)\n",
    "#X_test_scaled = scaler.transform(X_test)"
   ]
  },
  {
   "cell_type": "markdown",
   "metadata": {},
   "source": [
    "### Try using binary outcome data"
   ]
  },
  {
   "cell_type": "markdown",
   "metadata": {},
   "source": [
    "### KNN"
   ]
  },
  {
   "cell_type": "code",
   "execution_count": 17,
   "metadata": {},
   "outputs": [],
   "source": [
    "from sklearn import neighbors, ensemble, svm, metrics"
   ]
  },
  {
   "cell_type": "code",
   "execution_count": 12,
   "metadata": {},
   "outputs": [
    {
     "name": "stderr",
     "output_type": "stream",
     "text": [
      "/rds/general/user/cam119/home/anaconda3/envs/ML_project/lib/python3.6/site-packages/numpy/lib/arraysetops.py:569: FutureWarning: elementwise comparison failed; returning scalar instead, but in the future will perform elementwise comparison\n",
      "  mask |= (ar1 == a)\n"
     ]
    }
   ],
   "source": [
    "dfbin = pd.read_csv('Data/MICE_data_bin.csv', index_col=[0])"
   ]
  },
  {
   "cell_type": "code",
   "execution_count": 13,
   "metadata": {},
   "outputs": [],
   "source": [
    "X = dfbin.drop(['birthweight_bin'], axis=1)\n",
    "y = dfbin['birthweight_bin']"
   ]
  },
  {
   "cell_type": "code",
   "execution_count": 14,
   "metadata": {},
   "outputs": [],
   "source": [
    "X_train, X_test, y_train, y_test = train_test_split(X, y, test_size=0.25, random_state=2)"
   ]
  },
  {
   "cell_type": "code",
   "execution_count": 20,
   "metadata": {},
   "outputs": [
    {
     "data": {
      "text/plain": [
       "KNeighborsClassifier(algorithm='auto', leaf_size=30, metric='minkowski',\n",
       "                     metric_params=None, n_jobs=None, n_neighbors=4, p=2,\n",
       "                     weights='uniform')"
      ]
     },
     "execution_count": 20,
     "metadata": {},
     "output_type": "execute_result"
    }
   ],
   "source": [
    "model = neighbors.KNeighborsClassifier(n_neighbors=4)\n",
    "model.fit(X_train, y_train)"
   ]
  },
  {
   "cell_type": "code",
   "execution_count": 21,
   "metadata": {},
   "outputs": [],
   "source": [
    "y_pred = model.predict(X_test)"
   ]
  },
  {
   "cell_type": "code",
   "execution_count": 22,
   "metadata": {},
   "outputs": [
    {
     "name": "stdout",
     "output_type": "stream",
     "text": [
      "[[867696   3685]\n",
      " [ 77519   1484]]\n"
     ]
    }
   ],
   "source": [
    "cm = metrics.confusion_matrix(y_test, y_pred)\n",
    "print(cm)"
   ]
  },
  {
   "cell_type": "code",
   "execution_count": 23,
   "metadata": {},
   "outputs": [
    {
     "name": "stdout",
     "output_type": "stream",
     "text": [
      "Number of low-bw cases in test set = 79003\n",
      "Number of correctly predicted low-bw cases = 1484\n"
     ]
    }
   ],
   "source": [
    "print('Number of low-bw cases in test set =', cm[1,0] + cm[1,1])\n",
    "print('Number of correctly predicted low-bw cases =', cm[1,1])"
   ]
  },
  {
   "cell_type": "code",
   "execution_count": 24,
   "metadata": {},
   "outputs": [
    {
     "data": {
      "text/plain": [
       "(867696, 3685, 77519, 1484)"
      ]
     },
     "execution_count": 24,
     "metadata": {},
     "output_type": "execute_result"
    }
   ],
   "source": [
    "tn, fp, fn, tp = metrics.confusion_matrix(y_test, y_pred).ravel()\n",
    "tn, fp, fn, tp"
   ]
  },
  {
   "cell_type": "markdown",
   "metadata": {},
   "source": [
    "### SVM"
   ]
  },
  {
   "cell_type": "code",
   "execution_count": 25,
   "metadata": {},
   "outputs": [],
   "source": [
    "from sklearn.svm import SVC"
   ]
  },
  {
   "cell_type": "code",
   "execution_count": 26,
   "metadata": {},
   "outputs": [],
   "source": [
    "X = dfbin.drop(['birthweight_bin'], axis=1)\n",
    "y = dfbin['birthweight_bin']"
   ]
  },
  {
   "cell_type": "code",
   "execution_count": null,
   "metadata": {},
   "outputs": [],
   "source": [
    "svm = SVC(kernel='linear')\n",
    "svm.fit(X, y)"
   ]
  },
  {
   "cell_type": "code",
   "execution_count": null,
   "metadata": {},
   "outputs": [],
   "source": [
    "def plot_svc_decision_function(model, ax=None):\n",
    "    \"\"\"Plot the decision function for a 2D SVC\"\"\"\n",
    "    if ax is None:\n",
    "        ax = plt.gca()\n",
    "    xlim = ax.get_xlim()\n",
    "    ylim = ax.get_ylim()\n",
    "    \n",
    "    # create grid to evaluate model\n",
    "    x = np.linspace(xlim[0], xlim[1], 30)\n",
    "    y = np.linspace(ylim[0], ylim[1], 30)\n",
    "    X, Y = np.meshgrid(x,y)\n",
    "    xy = np.vstack([X.ravel(), Y.ravel()]).T\n",
    "    P = model.decision_function(xy).reshape(X.shape)\n",
    "    \n",
    "    # plot decision boundary and margins\n",
    "    ax.contour(X, Y, P, colors='k',\n",
    "               levels=[-1, 0, 1], alpha=0.5,\n",
    "               linestyles=['--', '-', '--'])\n",
    "    \n",
    "\n",
    "    ax.scatter(model.support_vectors_[:, 0],\n",
    "                   model.support_vectors_[:, 1],\n",
    "                   s=300, linewidth=1, facecolors='none');\n",
    "    ax.set_xlim(xlim)\n",
    "    ax.set_ylim(ylim)"
   ]
  },
  {
   "cell_type": "code",
   "execution_count": null,
   "metadata": {},
   "outputs": [],
   "source": [
    "plt.scatter(X[:, 0], X[:, 1], c=y, s=50, cmap='autumn')\n",
    "plot_svc_decision_function(svm)\n",
    "plt.show()"
   ]
  },
  {
   "cell_type": "markdown",
   "metadata": {},
   "source": [
    "### Decision tree"
   ]
  },
  {
   "cell_type": "code",
   "execution_count": 144,
   "metadata": {},
   "outputs": [],
   "source": [
    "# preamble\n",
    "from sklearn.tree import DecisionTreeClassifier, export_graphviz\n",
    "from sklearn import metrics\n",
    "\n",
    "import graphviz \n",
    "\n",
    "# Helper function to plot the decision tree. This uses the graphviz library.\n",
    "def plot_tree(graph, feature_names=None, class_names=None):\n",
    "    '''\n",
    "    This method takes a DecisionTreeClassifier object, along with a list of feature names and target names\n",
    "    and plots a tree. The feature names and class names can be left empty; they are just there for labelling \n",
    "    '''\n",
    "    dot_data = export_graphviz(graph, out_file=None, \n",
    "                      feature_names=feature_names,  \n",
    "                      class_names=class_names,  \n",
    "                      filled=True, rounded=True,  \n",
    "                      special_characters=True) \n",
    "    \n",
    "    graph = graphviz.Source(dot_data)\n",
    "    \n",
    "    return graph\n"
   ]
  },
  {
   "cell_type": "code",
   "execution_count": 153,
   "metadata": {},
   "outputs": [],
   "source": [
    "import os\n",
    "os.environ[\"PATH\"] += os.pathsep + 'C:/Program Files (x86)/Graphviz2.38/bin/'"
   ]
  },
  {
   "cell_type": "code",
   "execution_count": 199,
   "metadata": {},
   "outputs": [],
   "source": [
    "X = dfbin.drop(['birthweight_bin'], axis=1)\n",
    "y = dfbin['birthweight_bin']"
   ]
  },
  {
   "cell_type": "code",
   "execution_count": 201,
   "metadata": {},
   "outputs": [],
   "source": [
    "y = np.where(y == 1, 'low', 'normal')"
   ]
  },
  {
   "cell_type": "code",
   "execution_count": 222,
   "metadata": {},
   "outputs": [
    {
     "name": "stdout",
     "output_type": "stream",
     "text": [
      "Accuracy: 0.912\n"
     ]
    },
    {
     "data": {
      "image/svg+xml": [
       "<?xml version=\"1.0\" encoding=\"UTF-8\" standalone=\"no\"?>\r\n",
       "<!DOCTYPE svg PUBLIC \"-//W3C//DTD SVG 1.1//EN\"\r\n",
       " \"http://www.w3.org/Graphics/SVG/1.1/DTD/svg11.dtd\">\r\n",
       "<!-- Generated by graphviz version 2.38.0 (20140413.2041)\r\n",
       " -->\r\n",
       "<!-- Title: Tree Pages: 1 -->\r\n",
       "<svg width=\"514pt\" height=\"314pt\"\r\n",
       " viewBox=\"0.00 0.00 513.50 314.00\" xmlns=\"http://www.w3.org/2000/svg\" xmlns:xlink=\"http://www.w3.org/1999/xlink\">\r\n",
       "<g id=\"graph0\" class=\"graph\" transform=\"scale(1 1) rotate(0) translate(4 310)\">\r\n",
       "<title>Tree</title>\r\n",
       "<polygon fill=\"white\" stroke=\"none\" points=\"-4,4 -4,-310 509.5,-310 509.5,4 -4,4\"/>\r\n",
       "<!-- 0 -->\r\n",
       "<g id=\"node1\" class=\"node\"><title>0</title>\r\n",
       "<path fill=\"#4ba6e7\" stroke=\"black\" d=\"M321.5,-306C321.5,-306 210.5,-306 210.5,-306 204.5,-306 198.5,-300 198.5,-294 198.5,-294 198.5,-235 198.5,-235 198.5,-229 204.5,-223 210.5,-223 210.5,-223 321.5,-223 321.5,-223 327.5,-223 333.5,-229 333.5,-235 333.5,-235 333.5,-294 333.5,-294 333.5,-300 327.5,-306 321.5,-306\"/>\r\n",
       "<text text-anchor=\"start\" x=\"206.5\" y=\"-290.8\" font-family=\"Helvetica,sans-Serif\" font-size=\"14.00\">weight_gain ≤ 82.0</text>\r\n",
       "<text text-anchor=\"start\" x=\"228.5\" y=\"-275.8\" font-family=\"Helvetica,sans-Serif\" font-size=\"14.00\">gini = 0.152</text>\r\n",
       "<text text-anchor=\"start\" x=\"218.5\" y=\"-260.8\" font-family=\"Helvetica,sans-Serif\" font-size=\"14.00\">samples = 750</text>\r\n",
       "<text text-anchor=\"start\" x=\"213\" y=\"-245.8\" font-family=\"Helvetica,sans-Serif\" font-size=\"14.00\">value = [62, 688]</text>\r\n",
       "<text text-anchor=\"start\" x=\"220\" y=\"-230.8\" font-family=\"Helvetica,sans-Serif\" font-size=\"14.00\">class = normal</text>\r\n",
       "</g>\r\n",
       "<!-- 1 -->\r\n",
       "<g id=\"node2\" class=\"node\"><title>1</title>\r\n",
       "<path fill=\"#4aa6e7\" stroke=\"black\" d=\"M241,-187C241,-187 143,-187 143,-187 137,-187 131,-181 131,-175 131,-175 131,-116 131,-116 131,-110 137,-104 143,-104 143,-104 241,-104 241,-104 247,-104 253,-110 253,-116 253,-116 253,-175 253,-175 253,-181 247,-187 241,-187\"/>\r\n",
       "<text text-anchor=\"start\" x=\"158.5\" y=\"-171.8\" font-family=\"Helvetica,sans-Serif\" font-size=\"14.00\">bmi ≤ 38.5</text>\r\n",
       "<text text-anchor=\"start\" x=\"154.5\" y=\"-156.8\" font-family=\"Helvetica,sans-Serif\" font-size=\"14.00\">gini = 0.148</text>\r\n",
       "<text text-anchor=\"start\" x=\"144.5\" y=\"-141.8\" font-family=\"Helvetica,sans-Serif\" font-size=\"14.00\">samples = 747</text>\r\n",
       "<text text-anchor=\"start\" x=\"139\" y=\"-126.8\" font-family=\"Helvetica,sans-Serif\" font-size=\"14.00\">value = [60, 687]</text>\r\n",
       "<text text-anchor=\"start\" x=\"146\" y=\"-111.8\" font-family=\"Helvetica,sans-Serif\" font-size=\"14.00\">class = normal</text>\r\n",
       "</g>\r\n",
       "<!-- 0&#45;&gt;1 -->\r\n",
       "<g id=\"edge1\" class=\"edge\"><title>0&#45;&gt;1</title>\r\n",
       "<path fill=\"none\" stroke=\"black\" d=\"M240.326,-222.907C234.758,-214.105 228.812,-204.703 223.062,-195.612\"/>\r\n",
       "<polygon fill=\"black\" stroke=\"black\" points=\"225.932,-193.601 217.629,-187.021 220.016,-197.343 225.932,-193.601\"/>\r\n",
       "<text text-anchor=\"middle\" x=\"212.138\" y=\"-207.71\" font-family=\"Helvetica,sans-Serif\" font-size=\"14.00\">True</text>\r\n",
       "</g>\r\n",
       "<!-- 4 -->\r\n",
       "<g id=\"node5\" class=\"node\"><title>4</title>\r\n",
       "<path fill=\"#f2c09c\" stroke=\"black\" d=\"M398.5,-187C398.5,-187 283.5,-187 283.5,-187 277.5,-187 271.5,-181 271.5,-175 271.5,-175 271.5,-116 271.5,-116 271.5,-110 277.5,-104 283.5,-104 283.5,-104 398.5,-104 398.5,-104 404.5,-104 410.5,-110 410.5,-116 410.5,-116 410.5,-175 410.5,-175 410.5,-181 404.5,-187 398.5,-187\"/>\r\n",
       "<text text-anchor=\"start\" x=\"279.5\" y=\"-171.8\" font-family=\"Helvetica,sans-Serif\" font-size=\"14.00\">birth_time ≤ 1182.5</text>\r\n",
       "<text text-anchor=\"start\" x=\"303.5\" y=\"-156.8\" font-family=\"Helvetica,sans-Serif\" font-size=\"14.00\">gini = 0.444</text>\r\n",
       "<text text-anchor=\"start\" x=\"301.5\" y=\"-141.8\" font-family=\"Helvetica,sans-Serif\" font-size=\"14.00\">samples = 3</text>\r\n",
       "<text text-anchor=\"start\" x=\"300.5\" y=\"-126.8\" font-family=\"Helvetica,sans-Serif\" font-size=\"14.00\">value = [2, 1]</text>\r\n",
       "<text text-anchor=\"start\" x=\"306\" y=\"-111.8\" font-family=\"Helvetica,sans-Serif\" font-size=\"14.00\">class = low</text>\r\n",
       "</g>\r\n",
       "<!-- 0&#45;&gt;4 -->\r\n",
       "<g id=\"edge4\" class=\"edge\"><title>0&#45;&gt;4</title>\r\n",
       "<path fill=\"none\" stroke=\"black\" d=\"M292.021,-222.907C297.664,-214.105 303.69,-204.703 309.518,-195.612\"/>\r\n",
       "<polygon fill=\"black\" stroke=\"black\" points=\"312.575,-197.328 315.025,-187.021 306.682,-193.551 312.575,-197.328\"/>\r\n",
       "<text text-anchor=\"middle\" x=\"320.368\" y=\"-207.743\" font-family=\"Helvetica,sans-Serif\" font-size=\"14.00\">False</text>\r\n",
       "</g>\r\n",
       "<!-- 2 -->\r\n",
       "<g id=\"node3\" class=\"node\"><title>2</title>\r\n",
       "<path fill=\"#48a4e7\" stroke=\"black\" d=\"M110,-68C110,-68 12,-68 12,-68 6,-68 7.10543e-015,-62 7.10543e-015,-56 7.10543e-015,-56 7.10543e-015,-12 7.10543e-015,-12 7.10543e-015,-6 6,-0 12,-0 12,-0 110,-0 110,-0 116,-0 122,-6 122,-12 122,-12 122,-56 122,-56 122,-62 116,-68 110,-68\"/>\r\n",
       "<text text-anchor=\"start\" x=\"23.5\" y=\"-52.8\" font-family=\"Helvetica,sans-Serif\" font-size=\"14.00\">gini = 0.131</text>\r\n",
       "<text text-anchor=\"start\" x=\"13.5\" y=\"-37.8\" font-family=\"Helvetica,sans-Serif\" font-size=\"14.00\">samples = 693</text>\r\n",
       "<text text-anchor=\"start\" x=\"8\" y=\"-22.8\" font-family=\"Helvetica,sans-Serif\" font-size=\"14.00\">value = [49, 644]</text>\r\n",
       "<text text-anchor=\"start\" x=\"15\" y=\"-7.8\" font-family=\"Helvetica,sans-Serif\" font-size=\"14.00\">class = normal</text>\r\n",
       "</g>\r\n",
       "<!-- 1&#45;&gt;2 -->\r\n",
       "<g id=\"edge2\" class=\"edge\"><title>1&#45;&gt;2</title>\r\n",
       "<path fill=\"none\" stroke=\"black\" d=\"M143.22,-103.726C131.872,-94.2406 119.807,-84.1551 108.514,-74.7159\"/>\r\n",
       "<polygon fill=\"black\" stroke=\"black\" points=\"110.755,-72.0276 100.838,-68.2996 106.266,-77.3984 110.755,-72.0276\"/>\r\n",
       "</g>\r\n",
       "<!-- 3 -->\r\n",
       "<g id=\"node4\" class=\"node\"><title>3</title>\r\n",
       "<path fill=\"#6cb6ec\" stroke=\"black\" d=\"M241.5,-68C241.5,-68 152.5,-68 152.5,-68 146.5,-68 140.5,-62 140.5,-56 140.5,-56 140.5,-12 140.5,-12 140.5,-6 146.5,-0 152.5,-0 152.5,-0 241.5,-0 241.5,-0 247.5,-0 253.5,-6 253.5,-12 253.5,-12 253.5,-56 253.5,-56 253.5,-62 247.5,-68 241.5,-68\"/>\r\n",
       "<text text-anchor=\"start\" x=\"159.5\" y=\"-52.8\" font-family=\"Helvetica,sans-Serif\" font-size=\"14.00\">gini = 0.324</text>\r\n",
       "<text text-anchor=\"start\" x=\"153.5\" y=\"-37.8\" font-family=\"Helvetica,sans-Serif\" font-size=\"14.00\">samples = 54</text>\r\n",
       "<text text-anchor=\"start\" x=\"148.5\" y=\"-22.8\" font-family=\"Helvetica,sans-Serif\" font-size=\"14.00\">value = [11, 43]</text>\r\n",
       "<text text-anchor=\"start\" x=\"151\" y=\"-7.8\" font-family=\"Helvetica,sans-Serif\" font-size=\"14.00\">class = normal</text>\r\n",
       "</g>\r\n",
       "<!-- 1&#45;&gt;3 -->\r\n",
       "<g id=\"edge3\" class=\"edge\"><title>1&#45;&gt;3</title>\r\n",
       "<path fill=\"none\" stroke=\"black\" d=\"M193.862,-103.726C194.237,-95.5175 194.632,-86.8595 195.011,-78.56\"/>\r\n",
       "<polygon fill=\"black\" stroke=\"black\" points=\"198.52,-78.4489 195.479,-68.2996 191.527,-78.1295 198.52,-78.4489\"/>\r\n",
       "</g>\r\n",
       "<!-- 5 -->\r\n",
       "<g id=\"node6\" class=\"node\"><title>5</title>\r\n",
       "<path fill=\"#399de5\" stroke=\"black\" d=\"M378,-68C378,-68 294,-68 294,-68 288,-68 282,-62 282,-56 282,-56 282,-12 282,-12 282,-6 288,-0 294,-0 294,-0 378,-0 378,-0 384,-0 390,-6 390,-12 390,-12 390,-56 390,-56 390,-62 384,-68 378,-68\"/>\r\n",
       "<text text-anchor=\"start\" x=\"307\" y=\"-52.8\" font-family=\"Helvetica,sans-Serif\" font-size=\"14.00\">gini = 0.0</text>\r\n",
       "<text text-anchor=\"start\" x=\"296.5\" y=\"-37.8\" font-family=\"Helvetica,sans-Serif\" font-size=\"14.00\">samples = 1</text>\r\n",
       "<text text-anchor=\"start\" x=\"295.5\" y=\"-22.8\" font-family=\"Helvetica,sans-Serif\" font-size=\"14.00\">value = [0, 1]</text>\r\n",
       "<text text-anchor=\"start\" x=\"290\" y=\"-7.8\" font-family=\"Helvetica,sans-Serif\" font-size=\"14.00\">class = normal</text>\r\n",
       "</g>\r\n",
       "<!-- 4&#45;&gt;5 -->\r\n",
       "<g id=\"edge5\" class=\"edge\"><title>4&#45;&gt;5</title>\r\n",
       "<path fill=\"none\" stroke=\"black\" d=\"M339.138,-103.726C338.763,-95.5175 338.368,-86.8595 337.989,-78.56\"/>\r\n",
       "<polygon fill=\"black\" stroke=\"black\" points=\"341.473,-78.1295 337.521,-68.2996 334.48,-78.4489 341.473,-78.1295\"/>\r\n",
       "</g>\r\n",
       "<!-- 6 -->\r\n",
       "<g id=\"node7\" class=\"node\"><title>6</title>\r\n",
       "<path fill=\"#e58139\" stroke=\"black\" d=\"M493.5,-68C493.5,-68 420.5,-68 420.5,-68 414.5,-68 408.5,-62 408.5,-56 408.5,-56 408.5,-12 408.5,-12 408.5,-6 414.5,-0 420.5,-0 420.5,-0 493.5,-0 493.5,-0 499.5,-0 505.5,-6 505.5,-12 505.5,-12 505.5,-56 505.5,-56 505.5,-62 499.5,-68 493.5,-68\"/>\r\n",
       "<text text-anchor=\"start\" x=\"428\" y=\"-52.8\" font-family=\"Helvetica,sans-Serif\" font-size=\"14.00\">gini = 0.0</text>\r\n",
       "<text text-anchor=\"start\" x=\"417.5\" y=\"-37.8\" font-family=\"Helvetica,sans-Serif\" font-size=\"14.00\">samples = 2</text>\r\n",
       "<text text-anchor=\"start\" x=\"416.5\" y=\"-22.8\" font-family=\"Helvetica,sans-Serif\" font-size=\"14.00\">value = [2, 0]</text>\r\n",
       "<text text-anchor=\"start\" x=\"422\" y=\"-7.8\" font-family=\"Helvetica,sans-Serif\" font-size=\"14.00\">class = low</text>\r\n",
       "</g>\r\n",
       "<!-- 4&#45;&gt;6 -->\r\n",
       "<g id=\"edge6\" class=\"edge\"><title>4&#45;&gt;6</title>\r\n",
       "<path fill=\"none\" stroke=\"black\" d=\"M384.194,-103.726C394.05,-94.423 404.516,-84.5428 414.349,-75.2612\"/>\r\n",
       "<polygon fill=\"black\" stroke=\"black\" points=\"416.854,-77.7092 421.724,-68.2996 412.049,-72.6189 416.854,-77.7092\"/>\r\n",
       "</g>\r\n",
       "</g>\r\n",
       "</svg>\r\n"
      ],
      "text/plain": [
       "<graphviz.files.Source at 0x25d70b13630>"
      ]
     },
     "execution_count": 222,
     "metadata": {},
     "output_type": "execute_result"
    }
   ],
   "source": [
    "# Create a test-train data split. \n",
    "X_train, X_test, y_train, y_test = train_test_split(X, y, test_size=0.25, random_state=2)\n",
    "\n",
    "# Create a DecisionTreeclassifier object with default max depth.\n",
    "model = DecisionTreeClassifier(max_depth=2)\n",
    "\n",
    "# Use the DecisionTreeclassifier.fit(X, y) function to optimise the model.\n",
    "fitted_model = model.fit(X_train, y_train)\n",
    "\n",
    "# Use the DecisionTreeclassifier.predict(X) to make predictions\n",
    "y_pred = model.predict(X_test)\n",
    "\n",
    "# B7) Use metrics.accuracy_score(y_test, y_predictions) to compute accuracy scores. Print it.\n",
    "full_model_accuracy = metrics.accuracy_score(y_test, y_pred)\n",
    "\n",
    "print(f'Accuracy: {full_model_accuracy}')\n",
    "\n",
    "# B8) Plot the tree using plot_tree(model, feature_names, class_names)\n",
    "plot_tree(fitted_model, X.columns, ['low','normal'])"
   ]
  },
  {
   "cell_type": "code",
   "execution_count": 169,
   "metadata": {},
   "outputs": [],
   "source": [
    "from sklearn.model_selection import GridSearchCV\n",
    "\n",
    "# Initiate a GridSearchCV object with the correct model, param_grid, and cv; `cv=k` does a k-fold cross-validation.\n",
    "grid_search_model = GridSearchCV(DecisionTreeClassifier(random_state=2), {'max_depth':[1, 2, 3, 4, 5, 6]}, cv=15,)\n",
    "\n",
    "# G2) use the GridSearchCV.fit(X, y) method to run the grid search with cv. \n",
    "fitted_grid_search_model = grid_search_model.fit(X, y)"
   ]
  },
  {
   "cell_type": "code",
   "execution_count": 219,
   "metadata": {},
   "outputs": [
    {
     "name": "stdout",
     "output_type": "stream",
     "text": [
      "Mean accurary scores:[0.91703603 0.91703603 0.9090306  0.90203528 0.89802503 0.89200965]\n"
     ]
    },
    {
     "data": {
      "image/svg+xml": [
       "<?xml version=\"1.0\" encoding=\"UTF-8\" standalone=\"no\"?>\r\n",
       "<!DOCTYPE svg PUBLIC \"-//W3C//DTD SVG 1.1//EN\"\r\n",
       " \"http://www.w3.org/Graphics/SVG/1.1/DTD/svg11.dtd\">\r\n",
       "<!-- Generated by graphviz version 2.38.0 (20140413.2041)\r\n",
       " -->\r\n",
       "<!-- Title: Tree Pages: 1 -->\r\n",
       "<svg width=\"270pt\" height=\"195pt\"\r\n",
       " viewBox=\"0.00 0.00 270.00 195.00\" xmlns=\"http://www.w3.org/2000/svg\" xmlns:xlink=\"http://www.w3.org/1999/xlink\">\r\n",
       "<g id=\"graph0\" class=\"graph\" transform=\"scale(1 1) rotate(0) translate(4 191)\">\r\n",
       "<title>Tree</title>\r\n",
       "<polygon fill=\"white\" stroke=\"none\" points=\"-4,4 -4,-191 266,-191 266,4 -4,4\"/>\r\n",
       "<!-- 0 -->\r\n",
       "<g id=\"node1\" class=\"node\"><title>0</title>\r\n",
       "<path fill=\"#4ba6e7\" stroke=\"black\" d=\"M201,-187C201,-187 61,-187 61,-187 55,-187 49,-181 49,-175 49,-175 49,-116 49,-116 49,-110 55,-104 61,-104 61,-104 201,-104 201,-104 207,-104 213,-110 213,-116 213,-116 213,-175 213,-175 213,-181 207,-187 201,-187\"/>\r\n",
       "<text text-anchor=\"start\" x=\"57\" y=\"-171.8\" font-family=\"Helvetica,sans-Serif\" font-size=\"14.00\">last_preg_mn ≤ 44.306</text>\r\n",
       "<text text-anchor=\"start\" x=\"93.5\" y=\"-156.8\" font-family=\"Helvetica,sans-Serif\" font-size=\"14.00\">gini = 0.152</text>\r\n",
       "<text text-anchor=\"start\" x=\"79.5\" y=\"-141.8\" font-family=\"Helvetica,sans-Serif\" font-size=\"14.00\">samples = 1000</text>\r\n",
       "<text text-anchor=\"start\" x=\"78\" y=\"-126.8\" font-family=\"Helvetica,sans-Serif\" font-size=\"14.00\">value = [83, 917]</text>\r\n",
       "<text text-anchor=\"start\" x=\"85\" y=\"-111.8\" font-family=\"Helvetica,sans-Serif\" font-size=\"14.00\">class = normal</text>\r\n",
       "</g>\r\n",
       "<!-- 1 -->\r\n",
       "<g id=\"node2\" class=\"node\"><title>1</title>\r\n",
       "<path fill=\"#44a3e7\" stroke=\"black\" d=\"M110,-68C110,-68 12,-68 12,-68 6,-68 7.10543e-015,-62 7.10543e-015,-56 7.10543e-015,-56 7.10543e-015,-12 7.10543e-015,-12 7.10543e-015,-6 6,-0 12,-0 12,-0 110,-0 110,-0 116,-0 122,-6 122,-12 122,-12 122,-56 122,-56 122,-62 116,-68 110,-68\"/>\r\n",
       "<text text-anchor=\"start\" x=\"23.5\" y=\"-52.8\" font-family=\"Helvetica,sans-Serif\" font-size=\"14.00\">gini = 0.103</text>\r\n",
       "<text text-anchor=\"start\" x=\"13.5\" y=\"-37.8\" font-family=\"Helvetica,sans-Serif\" font-size=\"14.00\">samples = 659</text>\r\n",
       "<text text-anchor=\"start\" x=\"8\" y=\"-22.8\" font-family=\"Helvetica,sans-Serif\" font-size=\"14.00\">value = [36, 623]</text>\r\n",
       "<text text-anchor=\"start\" x=\"15\" y=\"-7.8\" font-family=\"Helvetica,sans-Serif\" font-size=\"14.00\">class = normal</text>\r\n",
       "</g>\r\n",
       "<!-- 0&#45;&gt;1 -->\r\n",
       "<g id=\"edge1\" class=\"edge\"><title>0&#45;&gt;1</title>\r\n",
       "<path fill=\"none\" stroke=\"black\" d=\"M104.935,-103.726C99.3371,-94.9703 93.413,-85.7032 87.7886,-76.9051\"/>\r\n",
       "<polygon fill=\"black\" stroke=\"black\" points=\"90.6226,-74.8399 82.2874,-68.2996 84.7247,-78.6103 90.6226,-74.8399\"/>\r\n",
       "<text text-anchor=\"middle\" x=\"76.9146\" y=\"-89.0154\" font-family=\"Helvetica,sans-Serif\" font-size=\"14.00\">True</text>\r\n",
       "</g>\r\n",
       "<!-- 2 -->\r\n",
       "<g id=\"node3\" class=\"node\"><title>2</title>\r\n",
       "<path fill=\"#59ade9\" stroke=\"black\" d=\"M250,-68C250,-68 152,-68 152,-68 146,-68 140,-62 140,-56 140,-56 140,-12 140,-12 140,-6 146,-0 152,-0 152,-0 250,-0 250,-0 256,-0 262,-6 262,-12 262,-12 262,-56 262,-56 262,-62 256,-68 250,-68\"/>\r\n",
       "<text text-anchor=\"start\" x=\"163.5\" y=\"-52.8\" font-family=\"Helvetica,sans-Serif\" font-size=\"14.00\">gini = 0.238</text>\r\n",
       "<text text-anchor=\"start\" x=\"153.5\" y=\"-37.8\" font-family=\"Helvetica,sans-Serif\" font-size=\"14.00\">samples = 341</text>\r\n",
       "<text text-anchor=\"start\" x=\"148\" y=\"-22.8\" font-family=\"Helvetica,sans-Serif\" font-size=\"14.00\">value = [47, 294]</text>\r\n",
       "<text text-anchor=\"start\" x=\"155\" y=\"-7.8\" font-family=\"Helvetica,sans-Serif\" font-size=\"14.00\">class = normal</text>\r\n",
       "</g>\r\n",
       "<!-- 0&#45;&gt;2 -->\r\n",
       "<g id=\"edge2\" class=\"edge\"><title>0&#45;&gt;2</title>\r\n",
       "<path fill=\"none\" stroke=\"black\" d=\"M157.065,-103.726C162.663,-94.9703 168.587,-85.7032 174.211,-76.9051\"/>\r\n",
       "<polygon fill=\"black\" stroke=\"black\" points=\"177.275,-78.6103 179.713,-68.2996 171.377,-74.8399 177.275,-78.6103\"/>\r\n",
       "<text text-anchor=\"middle\" x=\"185.085\" y=\"-89.0154\" font-family=\"Helvetica,sans-Serif\" font-size=\"14.00\">False</text>\r\n",
       "</g>\r\n",
       "</g>\r\n",
       "</svg>\r\n"
      ],
      "text/plain": [
       "<graphviz.files.Source at 0x25d70af84e0>"
      ]
     },
     "execution_count": 219,
     "metadata": {},
     "output_type": "execute_result"
    }
   ],
   "source": [
    "# The fitted GridSearchCV object has an attribute model.cv_results_ (note the underscore) that gives us a dict object with several results from the cross-valiation. \n",
    "# In particular, one of the key value pairs avaiable is 'mean_test_score', which returns the average score for each parameter value over the cv fold. \n",
    "\n",
    "accuracy_scores = fitted_grid_search_model.cv_results_['mean_test_score']\n",
    "print(f\"Mean accurary scores:{accuracy_scores}\")\n",
    "\n",
    "# Plot the best estimator I found\n",
    "# GridSearchCV.best_estimator_ (again, the underscore) returns the model that performed the best. This behaves the same as the model objects from before, so we can plot it.\n",
    "# Get the best model\n",
    "best_tree_model = fitted_grid_search_model.best_estimator_\n",
    "\n",
    "# Plot the best model\n",
    "plot_tree(best_tree_model, X.columns, ['low','normal'])"
   ]
  },
  {
   "cell_type": "code",
   "execution_count": null,
   "metadata": {},
   "outputs": [],
   "source": []
  }
 ],
 "metadata": {
  "kernelspec": {
   "display_name": "ML project",
   "language": "python",
   "name": "ml_project"
  },
  "language_info": {
   "codemirror_mode": {
    "name": "ipython",
    "version": 3
   },
   "file_extension": ".py",
   "mimetype": "text/x-python",
   "name": "python",
   "nbconvert_exporter": "python",
   "pygments_lexer": "ipython3",
   "version": "3.6.10"
  }
 },
 "nbformat": 4,
 "nbformat_minor": 4
}
